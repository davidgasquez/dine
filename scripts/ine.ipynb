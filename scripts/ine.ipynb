{
 "cells": [
  {
   "cell_type": "code",
   "execution_count": 1,
   "metadata": {},
   "outputs": [],
   "source": [
    "import httpx\n",
    "import polars as pl"
   ]
  },
  {
   "cell_type": "code",
   "execution_count": 2,
   "metadata": {},
   "outputs": [],
   "source": [
    "INE_BASE_URL = \"https://servicios.ine.es/wstempus/js/ES\"\n",
    "\n",
    "client = httpx.Client(\n",
    "    base_url=INE_BASE_URL,\n",
    "    limits=httpx.Limits(max_keepalive_connections=20),\n",
    "    transport=httpx.HTTPTransport(retries=3),\n",
    ")"
   ]
  },
  {
   "cell_type": "code",
   "execution_count": 3,
   "metadata": {},
   "outputs": [],
   "source": [
    "def ine_request(client: httpx.Client, endpoint, paginate=True):\n",
    "    page = 1\n",
    "    data = []\n",
    "\n",
    "    while True:\n",
    "        params = {\"det\": 10}\n",
    "\n",
    "        if paginate:\n",
    "            params[\"page\"] = page\n",
    "\n",
    "        response = client.get(\n",
    "            f\"/{endpoint}\", params=params, follow_redirects=True\n",
    "        ).json()\n",
    "\n",
    "        if not response:\n",
    "            break\n",
    "\n",
    "        data.extend(response)\n",
    "\n",
    "        if len(response) < 500 or not paginate:\n",
    "            break\n",
    "\n",
    "        page += 1\n",
    "\n",
    "    return data"
   ]
  },
  {
   "cell_type": "code",
   "execution_count": 4,
   "metadata": {},
   "outputs": [
    {
     "name": "stdout",
     "output_type": "stream",
     "text": [
      "(110, 6)\n"
     ]
    },
    {
     "data": {
      "text/html": [
       "<div><style>\n",
       ".dataframe > thead > tr,\n",
       ".dataframe > tbody > tr {\n",
       "  text-align: right;\n",
       "  white-space: pre-wrap;\n",
       "}\n",
       "</style>\n",
       "<small>shape: (5, 6)</small><table border=\"1\" class=\"dataframe\"><thead><tr><th>Id</th><th>Cod_IOE</th><th>Nombre</th><th>Codigo</th><th>Referencia</th><th>Url</th></tr><tr><td>i64</td><td>str</td><td>str</td><td>str</td><td>list[struct[3]]</td><td>str</td></tr></thead><tbody><tr><td>353</td><td>&quot;30325&quot;</td><td>&quot;Atlas de distribución de renta…</td><td>&quot;ADRH&quot;</td><td>[{197,&quot;Atlas de distribución de renta de los hogares&quot;,&quot;/dyngs/INEbase/es/operacion.htm?c=Estadistica_C&amp;cid=1254736177088&amp;idp=1254735976608&quot;}]</td><td>&quot;https://www.ine.es/dyngs/INEba…</td></tr><tr><td>254</td><td>&quot;30220&quot;</td><td>&quot;Índice de ingresos hoteleros&quot;</td><td>&quot;IIH&quot;</td><td>null</td><td>null</td></tr><tr><td>25</td><td>&quot;30138&quot;</td><td>&quot;Índice de Precios de Consumo (…</td><td>&quot;IPC&quot;</td><td>[{65,&quot;Índice de precios de consumo&quot;,&quot;/dyngs/INEbase/es/operacion.htm?c=Estadistica_C&amp;cid=1254736176802&amp;idp=1254735976607&quot;}]</td><td>null</td></tr><tr><td>437</td><td>&quot;&quot;</td><td>&quot;Medición del turismo emisor a …</td><td>&quot;TMOV&quot;</td><td>null</td><td>&quot;https://www.ine.es/experimenta…</td></tr><tr><td>240</td><td>&quot;30237&quot;</td><td>&quot;Encuesta de Ocupación en Campi…</td><td>&quot;EOAC&quot;</td><td>[{114,&quot;Campings: encuesta de ocupación e índice de precios&quot;,&quot;/dyngs/INEbase/es/operacion.htm?c=Estadistica_C&amp;cid=1254736176961&amp;idp=1254735576863&quot;}]</td><td>null</td></tr></tbody></table></div>"
      ],
      "text/plain": [
       "shape: (5, 6)\n",
       "┌─────┬─────────┬───────────────────────────┬────────┬──────────────────┬──────────────────────────┐\n",
       "│ Id  ┆ Cod_IOE ┆ Nombre                    ┆ Codigo ┆ Referencia       ┆ Url                      │\n",
       "│ --- ┆ ---     ┆ ---                       ┆ ---    ┆ ---              ┆ ---                      │\n",
       "│ i64 ┆ str     ┆ str                       ┆ str    ┆ list[struct[3]]  ┆ str                      │\n",
       "╞═════╪═════════╪═══════════════════════════╪════════╪══════════════════╪══════════════════════════╡\n",
       "│ 353 ┆ 30325   ┆ Atlas de distribución de  ┆ ADRH   ┆ [{197,\"Atlas de  ┆ https://www.ine.es/dyngs │\n",
       "│     ┆         ┆ renta…                    ┆        ┆ distribución d…  ┆ /INEba…                  │\n",
       "│ 254 ┆ 30220   ┆ Índice de ingresos        ┆ IIH    ┆ null             ┆ null                     │\n",
       "│     ┆         ┆ hoteleros                 ┆        ┆                  ┆                          │\n",
       "│ 25  ┆ 30138   ┆ Índice de Precios de      ┆ IPC    ┆ [{65,\"Índice de  ┆ null                     │\n",
       "│     ┆         ┆ Consumo (…                ┆        ┆ precios de con…  ┆                          │\n",
       "│ 437 ┆         ┆ Medición del turismo      ┆ TMOV   ┆ null             ┆ https://www.ine.es/exper │\n",
       "│     ┆         ┆ emisor a …                ┆        ┆                  ┆ imenta…                  │\n",
       "│ 240 ┆ 30237   ┆ Encuesta de Ocupación en  ┆ EOAC   ┆ [{114,\"Campings: ┆ null                     │\n",
       "│     ┆         ┆ Campi…                    ┆        ┆ encuesta de o…   ┆                          │\n",
       "└─────┴─────────┴───────────────────────────┴────────┴──────────────────┴──────────────────────────┘"
      ]
     },
     "execution_count": 4,
     "metadata": {},
     "output_type": "execute_result"
    }
   ],
   "source": [
    "# https://servicios.ine.es/wstempus/js/ES/OPERACIONES_DISPONIBLES\n",
    "\n",
    "operaciones_disponibles = pl.DataFrame(ine_request(client, \"OPERACIONES_DISPONIBLES\"))\n",
    "print(operaciones_disponibles.shape)\n",
    "operaciones_disponibles.sample(5)"
   ]
  },
  {
   "cell_type": "code",
   "execution_count": 5,
   "metadata": {},
   "outputs": [
    {
     "data": {
      "text/html": [
       "<div><style>\n",
       ".dataframe > thead > tr,\n",
       ".dataframe > tbody > tr {\n",
       "  text-align: right;\n",
       "  white-space: pre-wrap;\n",
       "}\n",
       "</style>\n",
       "<small>shape: (5, 3)</small><table border=\"1\" class=\"dataframe\"><thead><tr><th>Id</th><th>Nombre</th><th>Codigo</th></tr><tr><td>i64</td><td>str</td><td>str</td></tr></thead><tbody><tr><td>304</td><td>&quot;Destino económico de los biene…</td><td>&quot;&quot;</td></tr><tr><td>918</td><td>&quot;% VN que representan las OAL s…</td><td>&quot;&quot;</td></tr><tr><td>666</td><td>&quot;Tiempo transcurrido&quot;</td><td>&quot;&quot;</td></tr><tr><td>249</td><td>&quot;Cifra de Negocio/Personal Ocup…</td><td>&quot;&quot;</td></tr><tr><td>142</td><td>&quot;Zonas de nacionalidad&quot;</td><td>&quot;&quot;</td></tr></tbody></table></div>"
      ],
      "text/plain": [
       "shape: (5, 3)\n",
       "┌─────┬─────────────────────────────────┬────────┐\n",
       "│ Id  ┆ Nombre                          ┆ Codigo │\n",
       "│ --- ┆ ---                             ┆ ---    │\n",
       "│ i64 ┆ str                             ┆ str    │\n",
       "╞═════╪═════════════════════════════════╪════════╡\n",
       "│ 304 ┆ Destino económico de los biene… ┆        │\n",
       "│ 918 ┆ % VN que representan las OAL s… ┆        │\n",
       "│ 666 ┆ Tiempo transcurrido             ┆        │\n",
       "│ 249 ┆ Cifra de Negocio/Personal Ocup… ┆        │\n",
       "│ 142 ┆ Zonas de nacionalidad           ┆        │\n",
       "└─────┴─────────────────────────────────┴────────┘"
      ]
     },
     "execution_count": 5,
     "metadata": {},
     "output_type": "execute_result"
    }
   ],
   "source": [
    "# https://servicios.ine.es/wstempus/js/ES/VARIABLES?det=10\n",
    "\n",
    "variables = pl.DataFrame(ine_request(client, \"VARIABLES\"))\n",
    "variables.sample(5)"
   ]
  },
  {
   "cell_type": "code",
   "execution_count": 6,
   "metadata": {},
   "outputs": [],
   "source": [
    "t = []\n",
    "\n",
    "for row in operaciones_disponibles.rows(named=True):\n",
    "    tablas_operacion_url = f\"TABLAS_OPERACION/{row['Id']}\"\n",
    "    tablas_operacion = ine_request(client, tablas_operacion_url)\n",
    "\n",
    "    t.extend(tablas_operacion)"
   ]
  },
  {
   "cell_type": "code",
   "execution_count": 7,
   "metadata": {},
   "outputs": [
    {
     "name": "stdout",
     "output_type": "stream",
     "text": [
      "(5030, 51)\n"
     ]
    },
    {
     "data": {
      "text/html": [
       "<div><style>\n",
       ".dataframe > thead > tr,\n",
       ".dataframe > tbody > tr {\n",
       "  text-align: right;\n",
       "  white-space: pre-wrap;\n",
       "}\n",
       "</style>\n",
       "<small>shape: (5, 51)</small><table border=\"1\" class=\"dataframe\"><thead><tr><th>Id</th><th>Nombre</th><th>Codigo</th><th>Anyo_Periodo_ini</th><th>FechaRef_fin</th><th>Ultima_Modificacion</th><th>Periodicidad.Id</th><th>Periodicidad.Nombre</th><th>Periodicidad.Codigo</th><th>Publicacion.Id</th><th>Publicacion.Nombre</th><th>Publicacion.Periodicidad.Id</th><th>Publicacion.Periodicidad.Nombre</th><th>Publicacion.Periodicidad.Codigo</th><th>Publicacion.Operacion</th><th>Publicacion.PubFechaAct.Id</th><th>Publicacion.PubFechaAct.Nombre</th><th>Publicacion.PubFechaAct.Fecha</th><th>Publicacion.PubFechaAct.Periodo.Id</th><th>Publicacion.PubFechaAct.Periodo.Valor</th><th>Publicacion.PubFechaAct.Periodo.Periodicidad.Id</th><th>Publicacion.PubFechaAct.Periodo.Periodicidad.Nombre</th><th>Publicacion.PubFechaAct.Periodo.Periodicidad.Codigo</th><th>Publicacion.PubFechaAct.Periodo.Dia_inicio</th><th>Publicacion.PubFechaAct.Periodo.Mes_inicio</th><th>Publicacion.PubFechaAct.Periodo.Codigo</th><th>Publicacion.PubFechaAct.Periodo.Nombre</th><th>Publicacion.PubFechaAct.Periodo.Nombre_largo</th><th>Publicacion.PubFechaAct.Anyo</th><th>Periodo_ini.Id</th><th>Periodo_ini.Valor</th><th>Periodo_ini.Periodicidad.Id</th><th>Periodo_ini.Periodicidad.Nombre</th><th>Periodo_ini.Periodicidad.Codigo</th><th>Periodo_ini.Dia_inicio</th><th>Periodo_ini.Mes_inicio</th><th>Periodo_ini.Codigo</th><th>Periodo_ini.Nombre</th><th>Periodo_ini.Nombre_largo</th><th>Publicacion.Url</th><th>Anyo_Periodo_fin</th><th>Periodo_fin.Id</th><th>Periodo_fin.Valor</th><th>Periodo_fin.Periodicidad.Id</th><th>Periodo_fin.Periodicidad.Nombre</th><th>Periodo_fin.Periodicidad.Codigo</th><th>Periodo_fin.Dia_inicio</th><th>Periodo_fin.Mes_inicio</th><th>Periodo_fin.Codigo</th><th>Periodo_fin.Nombre</th><th>Periodo_fin.Nombre_largo</th></tr><tr><td>i64</td><td>str</td><td>str</td><td>str</td><td>str</td><td>i64</td><td>i64</td><td>str</td><td>str</td><td>i64</td><td>str</td><td>i64</td><td>str</td><td>str</td><td>list[struct[6]]</td><td>i64</td><td>str</td><td>i64</td><td>i64</td><td>i64</td><td>i64</td><td>str</td><td>str</td><td>str</td><td>str</td><td>str</td><td>str</td><td>str</td><td>i64</td><td>i64</td><td>i64</td><td>i64</td><td>str</td><td>str</td><td>str</td><td>str</td><td>str</td><td>str</td><td>str</td><td>str</td><td>str</td><td>i64</td><td>i64</td><td>i64</td><td>str</td><td>str</td><td>str</td><td>str</td><td>str</td><td>str</td><td>str</td></tr></thead><tbody><tr><td>66236</td><td>&quot;Asalariados por tipo de jornad…</td><td>&quot;NAC&quot;</td><td>&quot;2006&quot;</td><td>null</td><td>1478858400000</td><td>12</td><td>&quot;Anual&quot;</td><td>&quot;A&quot;</td><td>348</td><td>&quot;Encuesta de población activa. …</td><td>12</td><td>&quot;Anual&quot;</td><td>&quot;A&quot;</td><td>[{293,&quot;30308&quot;,&quot;Encuesta de Población Activa (EPA)&quot;,&quot;EPA&quot;,null,[{138,&quot;Encuesta de población activa&quot;,&quot;/dyngs/INEbase/es/operacion.htm?c=Estadistica_C&amp;cid=1254736176918&amp;idp=1254735976595&quot;}]}]</td><td>10640</td><td>&quot;Encuesta de población activa. …</td><td>1732269600000</td><td>28</td><td>1</td><td>12</td><td>&quot;Anual&quot;</td><td>&quot;A&quot;</td><td>&quot;1&quot;</td><td>&quot;1&quot;</td><td>&quot;01&quot;</td><td>&quot;A&quot;</td><td>&quot;Año&quot;</td><td>2023</td><td>28</td><td>1</td><td>12</td><td>&quot;Anual&quot;</td><td>&quot;A&quot;</td><td>&quot;1&quot;</td><td>&quot;1&quot;</td><td>&quot;01&quot;</td><td>&quot;A&quot;</td><td>&quot;Año&quot;</td><td>&quot;https://ine.es/dyngs/INEbase/e…</td><td>&quot;2015&quot;</td><td>28</td><td>1</td><td>12</td><td>&quot;Anual&quot;</td><td>&quot;A&quot;</td><td>&quot;1&quot;</td><td>&quot;1&quot;</td><td>&quot;01&quot;</td><td>&quot;A&quot;</td><td>&quot;Año&quot;</td></tr><tr><td>30904</td><td>&quot;Indicadores demográficos&quot;</td><td>&quot;MUN-DIST-SECC&quot;</td><td>&quot;2015&quot;</td><td>&quot;null&quot;</td><td>1730196000000</td><td>12</td><td>&quot;Anual&quot;</td><td>&quot;A&quot;</td><td>507</td><td>&quot;Atlas de distribución de renta…</td><td>12</td><td>&quot;Anual&quot;</td><td>&quot;A&quot;</td><td>[{353,&quot;30325&quot;,&quot;Atlas de distribución de renta de los hogares&quot;,&quot;ADRH&quot;,&quot;https://www.ine.es/dyngs/INEbase/es/operacion.htm?c=Estadistica_C&amp;cid=1254736177088&amp;idp=1254735976608&quot;,[{197,&quot;Atlas de distribución de renta de los hogares&quot;,&quot;/dyngs/INEbase/es/operacion.htm?c=Estadistica_C&amp;cid=1254736177088&amp;idp=1254735976608&quot;}]}]</td><td>10582</td><td>&quot;Atlas de distribución de renta…</td><td>1730196000000</td><td>28</td><td>1</td><td>12</td><td>&quot;Anual&quot;</td><td>&quot;A&quot;</td><td>&quot;1&quot;</td><td>&quot;1&quot;</td><td>&quot;01&quot;</td><td>&quot;A&quot;</td><td>&quot;Año&quot;</td><td>2022</td><td>28</td><td>1</td><td>12</td><td>&quot;Anual&quot;</td><td>&quot;A&quot;</td><td>&quot;1&quot;</td><td>&quot;1&quot;</td><td>&quot;01&quot;</td><td>&quot;A&quot;</td><td>&quot;Año&quot;</td><td>&quot;https://www.ine.es/dyngs/INEba…</td><td>null</td><td>null</td><td>null</td><td>null</td><td>null</td><td>null</td><td>null</td><td>null</td><td>null</td><td>null</td><td>null</td></tr><tr><td>66175</td><td>&quot;Asalariados por frecuencia con…</td><td>&quot;NAC-CCAA&quot;</td><td>&quot;2006&quot;</td><td>&quot;null&quot;</td><td>1679652000000</td><td>12</td><td>&quot;Anual&quot;</td><td>&quot;A&quot;</td><td>347</td><td>&quot;Encuesta de Población Activa. …</td><td>12</td><td>&quot;Anual&quot;</td><td>&quot;A&quot;</td><td>[{293,&quot;30308&quot;,&quot;Encuesta de Población Activa (EPA)&quot;,&quot;EPA&quot;,null,[{138,&quot;Encuesta de población activa&quot;,&quot;/dyngs/INEbase/es/operacion.htm?c=Estadistica_C&amp;cid=1254736176918&amp;idp=1254735976595&quot;}]}]</td><td>10632</td><td>&quot;Encuesta de Población Activa. …</td><td>1713517200000</td><td>28</td><td>1</td><td>12</td><td>&quot;Anual&quot;</td><td>&quot;A&quot;</td><td>&quot;1&quot;</td><td>&quot;1&quot;</td><td>&quot;01&quot;</td><td>&quot;A&quot;</td><td>&quot;Año&quot;</td><td>2023</td><td>28</td><td>1</td><td>12</td><td>&quot;Anual&quot;</td><td>&quot;A&quot;</td><td>&quot;1&quot;</td><td>&quot;1&quot;</td><td>&quot;01&quot;</td><td>&quot;A&quot;</td><td>&quot;Año&quot;</td><td>null</td><td>null</td><td>null</td><td>null</td><td>null</td><td>null</td><td>null</td><td>null</td><td>null</td><td>null</td><td>null</td><td>null</td></tr><tr><td>20517</td><td>&quot;Separaciones entre cónyuges de…</td><td>&quot;CCAA&quot;</td><td>&quot;2013&quot;</td><td>&quot;null&quot;</td><td>1720688400000</td><td>12</td><td>&quot;Anual&quot;</td><td>&quot;A&quot;</td><td>106</td><td>&quot;Estadística de nulidades, sepa…</td><td>12</td><td>&quot;Anual&quot;</td><td>&quot;A&quot;</td><td>[{66,&quot;30463&quot;,&quot;Estadística de Nulidades, Separaciones y Divorcios&quot;,&quot;ENSD&quot;,null,[{166,&quot;Estadística de nulidades, separaciones y divorcios&quot;,&quot;/dyngs/INEbase/es/operacion.htm?c=Estadistica_C&amp;cid=1254736176798&amp;idp=1254735573206&quot;}]}]</td><td>10603</td><td>&quot;Estadística de nulidades, sepa…</td><td>1720688400000</td><td>28</td><td>1</td><td>12</td><td>&quot;Anual&quot;</td><td>&quot;A&quot;</td><td>&quot;1&quot;</td><td>&quot;1&quot;</td><td>&quot;01&quot;</td><td>&quot;A&quot;</td><td>&quot;Año&quot;</td><td>2023</td><td>28</td><td>1</td><td>12</td><td>&quot;Anual&quot;</td><td>&quot;A&quot;</td><td>&quot;1&quot;</td><td>&quot;1&quot;</td><td>&quot;01&quot;</td><td>&quot;A&quot;</td><td>&quot;Año&quot;</td><td>null</td><td>null</td><td>null</td><td>null</td><td>null</td><td>null</td><td>null</td><td>null</td><td>null</td><td>null</td><td>null</td><td>null</td></tr><tr><td>3091</td><td>&quot;Nacional, Comunidades Autónoma…</td><td>&quot;CCAA-PROV&quot;</td><td>&quot;1986&quot;</td><td>null</td><td>1350975600000</td><td>12</td><td>&quot;Anual&quot;</td><td>&quot;A&quot;</td><td>275</td><td>&quot;Publicación división DPOD&quot;</td><td>12</td><td>&quot;Anual&quot;</td><td>&quot;A&quot;</td><td>[{36,&quot;&quot;,&quot;Poblaciones de derecho desde 1986 hasta 1995. Cifras oficiales sacadas del Padrón.&quot;,&quot;DPOD&quot;,null,null}]</td><td>934</td><td>&quot;Publicación división DPOD Año …</td><td>1350975600000</td><td>28</td><td>1</td><td>12</td><td>&quot;Anual&quot;</td><td>&quot;A&quot;</td><td>&quot;1&quot;</td><td>&quot;1&quot;</td><td>&quot;01&quot;</td><td>&quot;A&quot;</td><td>&quot;Año&quot;</td><td>2012</td><td>28</td><td>1</td><td>12</td><td>&quot;Anual&quot;</td><td>&quot;A&quot;</td><td>&quot;1&quot;</td><td>&quot;1&quot;</td><td>&quot;01&quot;</td><td>&quot;A&quot;</td><td>&quot;Año&quot;</td><td>null</td><td>&quot;1995&quot;</td><td>28</td><td>1</td><td>12</td><td>&quot;Anual&quot;</td><td>&quot;A&quot;</td><td>&quot;1&quot;</td><td>&quot;1&quot;</td><td>&quot;01&quot;</td><td>&quot;A&quot;</td><td>&quot;Año&quot;</td></tr></tbody></table></div>"
      ],
      "text/plain": [
       "shape: (5, 51)\n",
       "┌───────┬────────────┬────────────┬────────────┬───┬───────────┬───────────┬───────────┬───────────┐\n",
       "│ Id    ┆ Nombre     ┆ Codigo     ┆ Anyo_Perio ┆ … ┆ Periodo_f ┆ Periodo_f ┆ Periodo_f ┆ Periodo_f │\n",
       "│ ---   ┆ ---        ┆ ---        ┆ do_ini     ┆   ┆ in.Mes_in ┆ in.Codigo ┆ in.Nombre ┆ in.Nombre │\n",
       "│ i64   ┆ str        ┆ str        ┆ ---        ┆   ┆ icio      ┆ ---       ┆ ---       ┆ _largo    │\n",
       "│       ┆            ┆            ┆ str        ┆   ┆ ---       ┆ str       ┆ str       ┆ ---       │\n",
       "│       ┆            ┆            ┆            ┆   ┆ str       ┆           ┆           ┆ str       │\n",
       "╞═══════╪════════════╪════════════╪════════════╪═══╪═══════════╪═══════════╪═══════════╪═══════════╡\n",
       "│ 66236 ┆ Asalariado ┆ NAC        ┆ 2006       ┆ … ┆ 1         ┆ 01        ┆ A         ┆ Año       │\n",
       "│       ┆ s por tipo ┆            ┆            ┆   ┆           ┆           ┆           ┆           │\n",
       "│       ┆ de jornad… ┆            ┆            ┆   ┆           ┆           ┆           ┆           │\n",
       "│ 30904 ┆ Indicadore ┆ MUN-DIST-S ┆ 2015       ┆ … ┆ null      ┆ null      ┆ null      ┆ null      │\n",
       "│       ┆ s demográf ┆ ECC        ┆            ┆   ┆           ┆           ┆           ┆           │\n",
       "│       ┆ icos       ┆            ┆            ┆   ┆           ┆           ┆           ┆           │\n",
       "│ 66175 ┆ Asalariado ┆ NAC-CCAA   ┆ 2006       ┆ … ┆ null      ┆ null      ┆ null      ┆ null      │\n",
       "│       ┆ s por      ┆            ┆            ┆   ┆           ┆           ┆           ┆           │\n",
       "│       ┆ frecuencia ┆            ┆            ┆   ┆           ┆           ┆           ┆           │\n",
       "│       ┆ con…       ┆            ┆            ┆   ┆           ┆           ┆           ┆           │\n",
       "│ 20517 ┆ Separacion ┆ CCAA       ┆ 2013       ┆ … ┆ null      ┆ null      ┆ null      ┆ null      │\n",
       "│       ┆ es entre   ┆            ┆            ┆   ┆           ┆           ┆           ┆           │\n",
       "│       ┆ cónyuges   ┆            ┆            ┆   ┆           ┆           ┆           ┆           │\n",
       "│       ┆ de…        ┆            ┆            ┆   ┆           ┆           ┆           ┆           │\n",
       "│ 3091  ┆ Nacional,  ┆ CCAA-PROV  ┆ 1986       ┆ … ┆ 1         ┆ 01        ┆ A         ┆ Año       │\n",
       "│       ┆ Comunidade ┆            ┆            ┆   ┆           ┆           ┆           ┆           │\n",
       "│       ┆ s          ┆            ┆            ┆   ┆           ┆           ┆           ┆           │\n",
       "│       ┆ Autónoma…  ┆            ┆            ┆   ┆           ┆           ┆           ┆           │\n",
       "└───────┴────────────┴────────────┴────────────┴───┴───────────┴───────────┴───────────┴───────────┘"
      ]
     },
     "execution_count": 7,
     "metadata": {},
     "output_type": "execute_result"
    }
   ],
   "source": [
    "import os\n",
    "\n",
    "os.makedirs(\"dataset\", exist_ok=True)\n",
    "\n",
    "tablas = pl.json_normalize(t)\n",
    "print(tablas.shape)\n",
    "tablas.write_ndjson(\"dataset/tablas.jsonl\")\n",
    "tablas.sample(5)"
   ]
  },
  {
   "cell_type": "code",
   "execution_count": 8,
   "metadata": {},
   "outputs": [],
   "source": [
    "def generate_readme_content(data):\n",
    "    return f\"\"\"# {data[\"Nombre\"]}\n",
    "\n",
    "- **ID:** [{data[\"Id\"]}](https://www.ine.es/jaxiT3/Tabla.htm?t={data[\"Id\"]})\n",
    "- **Código:** {data[\"Codigo\"]}\n",
    "- **Año de Inicio del Periodo:** {data[\"Anyo_Periodo_ini\"]}\n",
    "- **Fecha de Referencia Final:** {data[\"FechaRef_fin\"]}\n",
    "- **Última Modificación:** {data[\"Ultima_Modificacion\"]}\n",
    "- **Periodicidad:** {data[\"Periodicidad.Nombre\"]} ({data[\"Periodicidad.Codigo\"]})\n",
    "\n",
    "## Publicación\n",
    "\n",
    "- **ID:** {data[\"Publicacion.Id\"]}\n",
    "- **Nombre:** {data[\"Publicacion.Nombre\"]}\n",
    "- **Periodicidad:** {data[\"Publicacion.Periodicidad.Nombre\"]} ({data[\"Publicacion.Periodicidad.Codigo\"]})\n",
    "\n",
    "### Operación\n",
    "\n",
    "- **ID:** {data[\"Publicacion.Operacion\"][0][\"Id\"]}\n",
    "- **Código IOE:** {data[\"Publicacion.Operacion\"][0][\"Cod_IOE\"]}\n",
    "- **Nombre:** {data[\"Publicacion.Operacion\"][0][\"Nombre\"]}\n",
    "- **Referencia:** {data[\"Publicacion.Operacion\"][0][\"Referencia\"]}\n",
    "\n",
    "### Última Publicación\n",
    "\n",
    "- **ID:** {data[\"Publicacion.PubFechaAct.Id\"]}\n",
    "- **Nombre:** {data[\"Publicacion.PubFechaAct.Nombre\"]}\n",
    "- **Fecha:** {data[\"Publicacion.PubFechaAct.Fecha\"]}\n",
    "- **Periodo ID:** {data[\"Publicacion.PubFechaAct.Periodo.Id\"]}\n",
    "- **Periodo Valor:** {data[\"Publicacion.PubFechaAct.Periodo.Valor\"]}\n",
    "- **Periodo Periodicidad:** {data[\"Publicacion.PubFechaAct.Periodo.Periodicidad.Nombre\"]} ({data[\"Publicacion.PubFechaAct.Periodo.Periodicidad.Codigo\"]})\n",
    "- **Periodo Día de Inicio:** {data[\"Publicacion.PubFechaAct.Periodo.Dia_inicio\"]}\n",
    "- **Periodo Mes de Inicio:** {data[\"Publicacion.PubFechaAct.Periodo.Mes_inicio\"]}\n",
    "- **Periodo Código:** {data[\"Publicacion.PubFechaAct.Periodo.Codigo\"]}\n",
    "- **Periodo Nombre:** {data[\"Publicacion.PubFechaAct.Periodo.Nombre\"]}\n",
    "- **Periodo Nombre Largo:** {data[\"Publicacion.PubFechaAct.Periodo.Nombre_largo\"]}\n",
    "- **Año:** {data[\"Publicacion.PubFechaAct.Anyo\"]}\n",
    "\n",
    "## Periodo Inicial\n",
    "\n",
    "- **ID:** {data[\"Periodo_ini.Id\"]}\n",
    "- **Valor:** {data[\"Periodo_ini.Valor\"]}\n",
    "- **Periodicidad:** {data[\"Periodo_ini.Periodicidad.Nombre\"]} ({data[\"Periodo_ini.Periodicidad.Codigo\"]})\n",
    "- **Día de Inicio:** {data[\"Periodo_ini.Dia_inicio\"]}\n",
    "- **Mes de Inicio:** {data[\"Periodo_ini.Mes_inicio\"]}\n",
    "- **Código:** {data[\"Periodo_ini.Codigo\"]}\n",
    "- **Nombre:** {data[\"Periodo_ini.Nombre\"]}\n",
    "- **Nombre Largo:** {data[\"Periodo_ini.Nombre_largo\"]}\n",
    "\n",
    "## Periodo Final\n",
    "\n",
    "- **Año de Fin del Periodo:** {data[\"Anyo_Periodo_fin\"]}\n",
    "- **ID:** {data[\"Periodo_fin.Id\"]}\n",
    "- **Valor:** {data[\"Periodo_fin.Valor\"]}\n",
    "- **Periodicidad:** {data[\"Periodo_fin.Periodicidad.Nombre\"]} ({data[\"Periodo_fin.Periodicidad.Codigo\"]})\n",
    "- **Día de Inicio:** {data[\"Periodo_fin.Dia_inicio\"]}\n",
    "- **Mes de Inicio:** {data[\"Periodo_fin.Mes_inicio\"]}\n",
    "- **Código:** {data[\"Periodo_fin.Codigo\"]}\n",
    "- **Nombre:** {data[\"Periodo_fin.Nombre\"]}\n",
    "- **Nombre Largo:** {data[\"Periodo_fin.Nombre_largo\"]}\n",
    "\n",
    "## JSON\n",
    "\n",
    "```json\n",
    "{data}\n",
    "```\n",
    "\"\"\""
   ]
  },
  {
   "cell_type": "code",
   "execution_count": 9,
   "metadata": {},
   "outputs": [],
   "source": [
    "def get_series_tabla_url(tabla_id):\n",
    "    return (\n",
    "        f\"https://servicios.ine.es/wstempus/jsCache/ES/SERIES_TABLA/{tabla_id}?det=10\"\n",
    "    )\n",
    "\n",
    "\n",
    "def get_tablas_download_url(tabla_id):\n",
    "    return f\"https://www.ine.es/jaxiT3/files/t/es/csv_bdsc/{tabla_id}.csv\"\n",
    "\n",
    "\n",
    "tablas = tablas.with_columns(\n",
    "    pl.col(\"Id\")\n",
    "    .map_elements(get_series_tabla_url, return_dtype=pl.String)\n",
    "    .alias(\"series_tabla_url\"),\n",
    "    pl.col(\"Id\")\n",
    "    .map_elements(get_tablas_download_url, return_dtype=pl.String)\n",
    "    .alias(\"tablas_download_url\"),\n",
    ")"
   ]
  },
  {
   "cell_type": "code",
   "execution_count": 10,
   "metadata": {},
   "outputs": [],
   "source": [
    "# tablas = tablas.sample(10)"
   ]
  },
  {
   "cell_type": "code",
   "execution_count": 11,
   "metadata": {},
   "outputs": [],
   "source": [
    "with open(\"series.input.spec\", \"w\") as f:\n",
    "    for t in tablas.rows(named=True):\n",
    "        f.write(f\"{t['series_tabla_url']}\\n\")\n",
    "        f.write(\"\\tout=series_metadata.json\\n\")\n",
    "        f.write(f\"\\tdir=dataset/tablas/{t['Id']}\\n\\n\")\n",
    "\n",
    "with open(\"tablas.input.spec\", \"w\") as f:\n",
    "    for t in tablas.rows(named=True):\n",
    "        f.write(f\"{t['tablas_download_url']}\\n\")\n",
    "        f.write(f\"\\tout={t['Id']}.csv\\n\")\n",
    "        f.write(f\"\\tdir=dataset/tablas/{t['Id']}\\n\\n\")"
   ]
  },
  {
   "cell_type": "code",
   "execution_count": 12,
   "metadata": {},
   "outputs": [
    {
     "ename": "KeyboardInterrupt",
     "evalue": "",
     "output_type": "error",
     "traceback": [
      "\u001b[31m---------------------------------------------------------------------------\u001b[39m",
      "\u001b[31mKeyboardInterrupt\u001b[39m                         Traceback (most recent call last)",
      "\u001b[36mCell\u001b[39m\u001b[36m \u001b[39m\u001b[32mIn[12]\u001b[39m\u001b[32m, line 3\u001b[39m\n\u001b[32m      1\u001b[39m \u001b[38;5;28;01mimport\u001b[39;00m\u001b[38;5;250m \u001b[39m\u001b[34;01msubprocess\u001b[39;00m\n\u001b[32m----> \u001b[39m\u001b[32m3\u001b[39m series_result = \u001b[43msubprocess\u001b[49m\u001b[43m.\u001b[49m\u001b[43mrun\u001b[49m\u001b[43m(\u001b[49m\n\u001b[32m      4\u001b[39m \u001b[43m    \u001b[49m\u001b[43m[\u001b[49m\n\u001b[32m      5\u001b[39m \u001b[43m        \u001b[49m\u001b[33;43m\"\u001b[39;49m\u001b[33;43maria2c\u001b[39;49m\u001b[33;43m\"\u001b[39;49m\u001b[43m,\u001b[49m\n\u001b[32m      6\u001b[39m \u001b[43m        \u001b[49m\u001b[33;43m\"\u001b[39;49m\u001b[33;43m-i\u001b[39;49m\u001b[33;43m\"\u001b[39;49m\u001b[43m,\u001b[49m\n\u001b[32m      7\u001b[39m \u001b[43m        \u001b[49m\u001b[33;43m\"\u001b[39;49m\u001b[33;43mseries.input.spec\u001b[39;49m\u001b[33;43m\"\u001b[39;49m\u001b[43m,\u001b[49m\n\u001b[32m      8\u001b[39m \u001b[43m        \u001b[49m\u001b[33;43m\"\u001b[39;49m\u001b[33;43m-j\u001b[39;49m\u001b[33;43m\"\u001b[39;49m\u001b[43m,\u001b[49m\n\u001b[32m      9\u001b[39m \u001b[43m        \u001b[49m\u001b[33;43m\"\u001b[39;49m\u001b[33;43m50\u001b[39;49m\u001b[33;43m\"\u001b[39;49m\u001b[43m,\u001b[49m\n\u001b[32m     10\u001b[39m \u001b[43m        \u001b[49m\u001b[33;43m\"\u001b[39;49m\u001b[33;43m-x\u001b[39;49m\u001b[33;43m\"\u001b[39;49m\u001b[43m,\u001b[49m\n\u001b[32m     11\u001b[39m \u001b[43m        \u001b[49m\u001b[33;43m\"\u001b[39;49m\u001b[33;43m16\u001b[39;49m\u001b[33;43m\"\u001b[39;49m\u001b[43m,\u001b[49m\n\u001b[32m     12\u001b[39m \u001b[43m        \u001b[49m\u001b[33;43m\"\u001b[39;49m\u001b[33;43m-s\u001b[39;49m\u001b[33;43m\"\u001b[39;49m\u001b[43m,\u001b[49m\n\u001b[32m     13\u001b[39m \u001b[43m        \u001b[49m\u001b[33;43m\"\u001b[39;49m\u001b[33;43m8\u001b[39;49m\u001b[33;43m\"\u001b[39;49m\u001b[43m,\u001b[49m\n\u001b[32m     14\u001b[39m \u001b[43m        \u001b[49m\u001b[33;43m\"\u001b[39;49m\u001b[33;43m-c\u001b[39;49m\u001b[33;43m\"\u001b[39;49m\u001b[43m,\u001b[49m\n\u001b[32m     15\u001b[39m \u001b[43m        \u001b[49m\u001b[33;43m\"\u001b[39;49m\u001b[33;43m--file-allocation=none\u001b[39;49m\u001b[33;43m\"\u001b[39;49m\u001b[43m,\u001b[49m\n\u001b[32m     16\u001b[39m \u001b[43m        \u001b[49m\u001b[33;43m\"\u001b[39;49m\u001b[33;43m--console-log-level=warn\u001b[39;49m\u001b[33;43m\"\u001b[39;49m\u001b[43m,\u001b[49m\n\u001b[32m     17\u001b[39m \u001b[43m    \u001b[49m\u001b[43m]\u001b[49m\u001b[43m,\u001b[49m\n\u001b[32m     18\u001b[39m \u001b[43m    \u001b[49m\u001b[43mcapture_output\u001b[49m\u001b[43m=\u001b[49m\u001b[38;5;28;43;01mTrue\u001b[39;49;00m\u001b[43m,\u001b[49m\n\u001b[32m     19\u001b[39m \u001b[43m    \u001b[49m\u001b[43mtext\u001b[49m\u001b[43m=\u001b[49m\u001b[38;5;28;43;01mTrue\u001b[39;49;00m\u001b[43m,\u001b[49m\n\u001b[32m     20\u001b[39m \u001b[43m)\u001b[49m\n",
      "\u001b[36mFile \u001b[39m\u001b[32m/usr/lib/python3.13/subprocess.py:558\u001b[39m, in \u001b[36mrun\u001b[39m\u001b[34m(input, capture_output, timeout, check, *popenargs, **kwargs)\u001b[39m\n\u001b[32m    556\u001b[39m \u001b[38;5;28;01mwith\u001b[39;00m Popen(*popenargs, **kwargs) \u001b[38;5;28;01mas\u001b[39;00m process:\n\u001b[32m    557\u001b[39m     \u001b[38;5;28;01mtry\u001b[39;00m:\n\u001b[32m--> \u001b[39m\u001b[32m558\u001b[39m         stdout, stderr = \u001b[43mprocess\u001b[49m\u001b[43m.\u001b[49m\u001b[43mcommunicate\u001b[49m\u001b[43m(\u001b[49m\u001b[38;5;28;43minput\u001b[39;49m\u001b[43m,\u001b[49m\u001b[43m \u001b[49m\u001b[43mtimeout\u001b[49m\u001b[43m=\u001b[49m\u001b[43mtimeout\u001b[49m\u001b[43m)\u001b[49m\n\u001b[32m    559\u001b[39m     \u001b[38;5;28;01mexcept\u001b[39;00m TimeoutExpired \u001b[38;5;28;01mas\u001b[39;00m exc:\n\u001b[32m    560\u001b[39m         process.kill()\n",
      "\u001b[36mFile \u001b[39m\u001b[32m/usr/lib/python3.13/subprocess.py:1221\u001b[39m, in \u001b[36mPopen.communicate\u001b[39m\u001b[34m(self, input, timeout)\u001b[39m\n\u001b[32m   1218\u001b[39m     endtime = \u001b[38;5;28;01mNone\u001b[39;00m\n\u001b[32m   1220\u001b[39m \u001b[38;5;28;01mtry\u001b[39;00m:\n\u001b[32m-> \u001b[39m\u001b[32m1221\u001b[39m     stdout, stderr = \u001b[38;5;28;43mself\u001b[39;49m\u001b[43m.\u001b[49m\u001b[43m_communicate\u001b[49m\u001b[43m(\u001b[49m\u001b[38;5;28;43minput\u001b[39;49m\u001b[43m,\u001b[49m\u001b[43m \u001b[49m\u001b[43mendtime\u001b[49m\u001b[43m,\u001b[49m\u001b[43m \u001b[49m\u001b[43mtimeout\u001b[49m\u001b[43m)\u001b[49m\n\u001b[32m   1222\u001b[39m \u001b[38;5;28;01mexcept\u001b[39;00m \u001b[38;5;167;01mKeyboardInterrupt\u001b[39;00m:\n\u001b[32m   1223\u001b[39m     \u001b[38;5;66;03m# https://bugs.python.org/issue25942\u001b[39;00m\n\u001b[32m   1224\u001b[39m     \u001b[38;5;66;03m# See the detailed comment in .wait().\u001b[39;00m\n\u001b[32m   1225\u001b[39m     \u001b[38;5;28;01mif\u001b[39;00m timeout \u001b[38;5;129;01mis\u001b[39;00m \u001b[38;5;129;01mnot\u001b[39;00m \u001b[38;5;28;01mNone\u001b[39;00m:\n",
      "\u001b[36mFile \u001b[39m\u001b[32m/usr/lib/python3.13/subprocess.py:2130\u001b[39m, in \u001b[36mPopen._communicate\u001b[39m\u001b[34m(self, input, endtime, orig_timeout)\u001b[39m\n\u001b[32m   2123\u001b[39m     \u001b[38;5;28mself\u001b[39m._check_timeout(endtime, orig_timeout,\n\u001b[32m   2124\u001b[39m                         stdout, stderr,\n\u001b[32m   2125\u001b[39m                         skip_check_and_raise=\u001b[38;5;28;01mTrue\u001b[39;00m)\n\u001b[32m   2126\u001b[39m     \u001b[38;5;28;01mraise\u001b[39;00m \u001b[38;5;167;01mRuntimeError\u001b[39;00m(  \u001b[38;5;66;03m# Impossible :)\u001b[39;00m\n\u001b[32m   2127\u001b[39m         \u001b[33m'\u001b[39m\u001b[33m_check_timeout(..., skip_check_and_raise=True) \u001b[39m\u001b[33m'\u001b[39m\n\u001b[32m   2128\u001b[39m         \u001b[33m'\u001b[39m\u001b[33mfailed to raise TimeoutExpired.\u001b[39m\u001b[33m'\u001b[39m)\n\u001b[32m-> \u001b[39m\u001b[32m2130\u001b[39m ready = \u001b[43mselector\u001b[49m\u001b[43m.\u001b[49m\u001b[43mselect\u001b[49m\u001b[43m(\u001b[49m\u001b[43mtimeout\u001b[49m\u001b[43m)\u001b[49m\n\u001b[32m   2131\u001b[39m \u001b[38;5;28mself\u001b[39m._check_timeout(endtime, orig_timeout, stdout, stderr)\n\u001b[32m   2133\u001b[39m \u001b[38;5;66;03m# XXX Rewrite these to use non-blocking I/O on the file\u001b[39;00m\n\u001b[32m   2134\u001b[39m \u001b[38;5;66;03m# objects; they are no longer using C stdio!\u001b[39;00m\n",
      "\u001b[36mFile \u001b[39m\u001b[32m/usr/lib/python3.13/selectors.py:398\u001b[39m, in \u001b[36m_PollLikeSelector.select\u001b[39m\u001b[34m(self, timeout)\u001b[39m\n\u001b[32m    396\u001b[39m ready = []\n\u001b[32m    397\u001b[39m \u001b[38;5;28;01mtry\u001b[39;00m:\n\u001b[32m--> \u001b[39m\u001b[32m398\u001b[39m     fd_event_list = \u001b[38;5;28;43mself\u001b[39;49m\u001b[43m.\u001b[49m\u001b[43m_selector\u001b[49m\u001b[43m.\u001b[49m\u001b[43mpoll\u001b[49m\u001b[43m(\u001b[49m\u001b[43mtimeout\u001b[49m\u001b[43m)\u001b[49m\n\u001b[32m    399\u001b[39m \u001b[38;5;28;01mexcept\u001b[39;00m \u001b[38;5;167;01mInterruptedError\u001b[39;00m:\n\u001b[32m    400\u001b[39m     \u001b[38;5;28;01mreturn\u001b[39;00m ready\n",
      "\u001b[31mKeyboardInterrupt\u001b[39m: "
     ]
    }
   ],
   "source": [
    "import subprocess\n",
    "\n",
    "series_result = subprocess.run(\n",
    "    [\n",
    "        \"aria2c\",\n",
    "        \"-i\",\n",
    "        \"series.input.spec\",\n",
    "        \"-j\",\n",
    "        \"50\",\n",
    "        \"-x\",\n",
    "        \"16\",\n",
    "        \"-s\",\n",
    "        \"8\",\n",
    "        \"-c\",\n",
    "        \"--file-allocation=none\",\n",
    "        \"--console-log-level=warn\",\n",
    "    ],\n",
    "    capture_output=True,\n",
    "    text=True,\n",
    ")"
   ]
  },
  {
   "cell_type": "code",
   "execution_count": null,
   "metadata": {},
   "outputs": [],
   "source": [
    "print(series_result.stdout)"
   ]
  },
  {
   "cell_type": "code",
   "execution_count": 13,
   "metadata": {},
   "outputs": [
    {
     "name": "stdout",
     "output_type": "stream",
     "text": [
      "Missing metadata files: 3\n"
     ]
    }
   ],
   "source": [
    "result = subprocess.run(\n",
    "    [\"grep\", \"-rl\", \"unos minutos\", \"dataset/tablas\"],\n",
    "    capture_output=True,\n",
    "    text=True,\n",
    ")\n",
    "\n",
    "missing_metadata_files = result.stdout.splitlines()\n",
    "\n",
    "print(f\"Missing metadata files: {len(missing_metadata_files)}\")"
   ]
  },
  {
   "cell_type": "code",
   "execution_count": 14,
   "metadata": {},
   "outputs": [],
   "source": [
    "with open(\"missing_series.input.spec\", \"w\") as f:\n",
    "    for file in missing_metadata_files:\n",
    "        tabla_id = file.split(\"/\")[-2]\n",
    "\n",
    "        f.write(\n",
    "            f\"https://servicios.ine.es/wstempus/jsCache/ES/SERIES_TABLA/{tabla_id}?det=10\\n\"\n",
    "        )\n",
    "        f.write(\"\\tout=metadata.json\\n\")\n",
    "        f.write(f\"\\tdir=dataset/tablas/{tabla_id}\\n\\n\")\n"
   ]
  },
  {
   "cell_type": "code",
   "execution_count": 15,
   "metadata": {},
   "outputs": [],
   "source": [
    "missing_series_result = subprocess.run(\n",
    "    [\n",
    "        \"aria2c\",\n",
    "        \"-i\",\n",
    "        \"missing_series.input.spec\",\n",
    "        \"-j\",\n",
    "        \"50\",\n",
    "        \"-x\",\n",
    "        \"16\",\n",
    "        \"-s\",\n",
    "        \"8\",\n",
    "        \"-c\",\n",
    "        \"--file-allocation=none\",\n",
    "        \"--console-log-level=warn\",\n",
    "        \"--allow-overwrite=true\",\n",
    "    ],\n",
    "    capture_output=True,\n",
    "    text=True,\n",
    ")"
   ]
  },
  {
   "cell_type": "code",
   "execution_count": null,
   "metadata": {},
   "outputs": [],
   "source": [
    "print(missing_series_result.stdout)"
   ]
  },
  {
   "cell_type": "code",
   "execution_count": 17,
   "metadata": {},
   "outputs": [],
   "source": [
    "tablas_result = subprocess.run(\n",
    "    [\n",
    "        \"aria2c\",\n",
    "        \"-i\",\n",
    "        \"tablas.input.spec\",\n",
    "        \"-j\",\n",
    "        \"50\",\n",
    "        \"-x\",\n",
    "        \"16\",\n",
    "        \"-s\",\n",
    "        \"8\",\n",
    "        \"-c\",\n",
    "        \"--file-allocation=none\",\n",
    "        \"--console-log-level=warn\",\n",
    "        \"--allow-overwrite=true\",\n",
    "    ],\n",
    "    capture_output=True,\n",
    "    text=True,\n",
    ")"
   ]
  },
  {
   "cell_type": "code",
   "execution_count": null,
   "metadata": {},
   "outputs": [],
   "source": [
    "print(tablas_result.stdout)"
   ]
  },
  {
   "cell_type": "code",
   "execution_count": 31,
   "metadata": {},
   "outputs": [
    {
     "name": "stderr",
     "output_type": "stream",
     "text": [
      "100%|██████████| 4843/4843 [03:41<00:00, 21.89it/s] \n"
     ]
    }
   ],
   "source": [
    "import glob\n",
    "\n",
    "from tqdm import tqdm\n",
    "\n",
    "csv_files = glob.glob(\"dataset/tablas/*/*.csv\")\n",
    "\n",
    "for file in tqdm(csv_files):\n",
    "    filename = file.split(\".\")[-2].split(\"/\")[-1]\n",
    "\n",
    "    table_metadata = tablas.filter(pl.col(\"Id\") == int(filename)).to_struct()\n",
    "\n",
    "    if table_metadata.shape[0] > 0:\n",
    "        with open(f\"dataset/tablas/{filename}/README.md\", \"w\") as f:\n",
    "            table_metadata = table_metadata[0]\n",
    "            f.write(generate_readme_content(table_metadata))\n",
    "\n",
    "    (\n",
    "        pl.scan_csv(\n",
    "            file,\n",
    "            separator=\";\",\n",
    "            ignore_errors=True,\n",
    "            truncate_ragged_lines=True,\n",
    "        ).sink_parquet(\n",
    "            f\"dataset/tablas/{filename}/datos.parquet\",\n",
    "            compression=\"zstd\",\n",
    "            row_group_size=1024**2,\n",
    "            type_coercion=True,\n",
    "        )\n",
    "    )\n"
   ]
  },
  {
   "cell_type": "code",
   "execution_count": 32,
   "metadata": {},
   "outputs": [],
   "source": [
    "import os\n",
    "\n",
    "for file in csv_files:\n",
    "    os.remove(file)"
   ]
  },
  {
   "cell_type": "code",
   "execution_count": null,
   "metadata": {},
   "outputs": [],
   "source": [
    "import os\n",
    "\n",
    "from huggingface_hub import HfApi\n",
    "\n",
    "api = HfApi(token=os.getenv(\"HUGGINGFACE_TOKEN\"))"
   ]
  },
  {
   "cell_type": "code",
   "execution_count": null,
   "metadata": {},
   "outputs": [],
   "source": [
    "import shutil\n",
    "\n",
    "shutil.copy(\"DATASET_README.md\", \"dataset/README.md\")\n",
    "\n",
    "api.upload_large_folder(\n",
    "    folder_path=\"dataset\", repo_id=\"davidgasquez/ine\", repo_type=\"dataset\"\n",
    ")"
   ]
  }
 ],
 "metadata": {
  "kernelspec": {
   "display_name": ".venv",
   "language": "python",
   "name": "python3"
  },
  "language_info": {
   "codemirror_mode": {
    "name": "ipython",
    "version": 3
   },
   "file_extension": ".py",
   "mimetype": "text/x-python",
   "name": "python",
   "nbconvert_exporter": "python",
   "pygments_lexer": "ipython3",
   "version": "3.13.2"
  }
 },
 "nbformat": 4,
 "nbformat_minor": 2
}
