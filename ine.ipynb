{
 "cells": [
  {
   "cell_type": "code",
   "execution_count": 1,
   "metadata": {},
   "outputs": [],
   "source": [
    "import httpx\n",
    "import polars as pl"
   ]
  },
  {
   "cell_type": "code",
   "execution_count": 2,
   "metadata": {},
   "outputs": [],
   "source": [
    "INE_BASE_URL = \"https://servicios.ine.es/wstempus/js/ES\"\n",
    "\n",
    "client = httpx.Client(\n",
    "    base_url=INE_BASE_URL,\n",
    "    limits=httpx.Limits(max_keepalive_connections=20),\n",
    "    transport=httpx.HTTPTransport(retries=3),\n",
    ")"
   ]
  },
  {
   "cell_type": "code",
   "execution_count": 3,
   "metadata": {},
   "outputs": [],
   "source": [
    "def ine_request(client: httpx.Client, endpoint, paginate=True):\n",
    "    page = 1\n",
    "    data = []\n",
    "\n",
    "    while True:\n",
    "        params = {\"det\": 10}\n",
    "\n",
    "        if paginate:\n",
    "            params[\"page\"] = page\n",
    "\n",
    "        response = client.get(\n",
    "            f\"/{endpoint}\", params=params, follow_redirects=True\n",
    "        ).json()\n",
    "\n",
    "        if not response:\n",
    "            break\n",
    "\n",
    "        data.extend(response)\n",
    "\n",
    "        if len(response) < 500 or not paginate:\n",
    "            break\n",
    "\n",
    "        page += 1\n",
    "\n",
    "    return data"
   ]
  },
  {
   "cell_type": "code",
   "execution_count": 4,
   "metadata": {},
   "outputs": [
    {
     "name": "stdout",
     "output_type": "stream",
     "text": [
      "(108, 6)\n"
     ]
    },
    {
     "data": {
      "text/html": [
       "<div><style>\n",
       ".dataframe > thead > tr,\n",
       ".dataframe > tbody > tr {\n",
       "  text-align: right;\n",
       "  white-space: pre-wrap;\n",
       "}\n",
       "</style>\n",
       "<small>shape: (5, 6)</small><table border=\"1\" class=\"dataframe\"><thead><tr><th>Id</th><th>Cod_IOE</th><th>Nombre</th><th>Codigo</th><th>Referencia</th><th>Url</th></tr><tr><td>i64</td><td>str</td><td>str</td><td>str</td><td>list[struct[3]]</td><td>str</td></tr></thead><tbody><tr><td>44</td><td>&quot;30198&quot;</td><td>&quot;Encuesta sobre Comercio Intern…</td><td>&quot;ICES&quot;</td><td>[{89,&quot;Encuesta de comercio internacional de servicios&quot;,&quot;/dyngs/INEbase/es/operacion.htm?c=Estadistica_C&amp;cid=1254736174702&amp;idp=1254735576778&quot;}]</td><td>null</td></tr><tr><td>333</td><td>&quot;30456&quot;</td><td>&quot;Mujeres y Hombres en España&quot;</td><td>&quot;MYH&quot;</td><td>[{159,&quot;Mujeres y hombres en España&quot;,&quot;/dyngs/INEbase/es/operacion.htm?c=Estadistica_C&amp;cid=1254736176984&amp;idp=1254735576508&quot;}]</td><td>null</td></tr><tr><td>22</td><td>&quot;30245&quot;</td><td>&quot;Cifras Oficiales de Población …</td><td>&quot;DPOP&quot;</td><td>[{119,&quot;Cifras oficiales de población de los municipios españoles: Revisión del Padrón Municipal&quot;,&quot;/dyngs/INEbase/es/operacion.htm?c=Estadistica_C&amp;cid=1254736177011&amp;idp=1254734710990&quot;}]</td><td>null</td></tr><tr><td>66</td><td>&quot;30463&quot;</td><td>&quot;Estadística de Nulidades, Sepa…</td><td>&quot;ENSD&quot;</td><td>[{166,&quot;Estadística de nulidades, separaciones y divorcios&quot;,&quot;/dyngs/INEbase/es/operacion.htm?c=Estadistica_C&amp;cid=1254736176798&amp;idp=1254735573206&quot;}]</td><td>null</td></tr><tr><td>241</td><td>&quot;30238&quot;</td><td>&quot;Encuesta de Ocupación en Aloja…</td><td>&quot;EOTR&quot;</td><td>[{115,&quot;Alojamientos de turismo rural: encuesta de ocupación e índice de precios&quot;,&quot;/dyngs/INEbase/es/operacion.htm?c=Estadistica_C&amp;cid=1254736176963&amp;idp=1254735576863&quot;}]</td><td>null</td></tr></tbody></table></div>"
      ],
      "text/plain": [
       "shape: (5, 6)\n",
       "┌─────┬─────────┬─────────────────────────────────┬────────┬─────────────────────────────┬──────┐\n",
       "│ Id  ┆ Cod_IOE ┆ Nombre                          ┆ Codigo ┆ Referencia                  ┆ Url  │\n",
       "│ --- ┆ ---     ┆ ---                             ┆ ---    ┆ ---                         ┆ ---  │\n",
       "│ i64 ┆ str     ┆ str                             ┆ str    ┆ list[struct[3]]             ┆ str  │\n",
       "╞═════╪═════════╪═════════════════════════════════╪════════╪═════════════════════════════╪══════╡\n",
       "│ 44  ┆ 30198   ┆ Encuesta sobre Comercio Intern… ┆ ICES   ┆ [{89,\"Encuesta de comercio  ┆ null │\n",
       "│     ┆         ┆                                 ┆        ┆ int…                        ┆      │\n",
       "│ 333 ┆ 30456   ┆ Mujeres y Hombres en España     ┆ MYH    ┆ [{159,\"Mujeres y hombres en ┆ null │\n",
       "│     ┆         ┆                                 ┆        ┆ Es…                         ┆      │\n",
       "│ 22  ┆ 30245   ┆ Cifras Oficiales de Población … ┆ DPOP   ┆ [{119,\"Cifras oficiales de  ┆ null │\n",
       "│     ┆         ┆                                 ┆        ┆ pob…                        ┆      │\n",
       "│ 66  ┆ 30463   ┆ Estadística de Nulidades, Sepa… ┆ ENSD   ┆ [{166,\"Estadística de       ┆ null │\n",
       "│     ┆         ┆                                 ┆        ┆ nulidade…                   ┆      │\n",
       "│ 241 ┆ 30238   ┆ Encuesta de Ocupación en Aloja… ┆ EOTR   ┆ [{115,\"Alojamientos de      ┆ null │\n",
       "│     ┆         ┆                                 ┆        ┆ turismo…                    ┆      │\n",
       "└─────┴─────────┴─────────────────────────────────┴────────┴─────────────────────────────┴──────┘"
      ]
     },
     "execution_count": 4,
     "metadata": {},
     "output_type": "execute_result"
    }
   ],
   "source": [
    "# https://servicios.ine.es/wstempus/js/ES/OPERACIONES_DISPONIBLES\n",
    "\n",
    "operaciones_disponibles = pl.DataFrame(ine_request(client, \"OPERACIONES_DISPONIBLES\"))\n",
    "print(operaciones_disponibles.shape)\n",
    "operaciones_disponibles.sample(5)"
   ]
  },
  {
   "cell_type": "code",
   "execution_count": 5,
   "metadata": {},
   "outputs": [
    {
     "data": {
      "text/html": [
       "<div><style>\n",
       ".dataframe > thead > tr,\n",
       ".dataframe > tbody > tr {\n",
       "  text-align: right;\n",
       "  white-space: pre-wrap;\n",
       "}\n",
       "</style>\n",
       "<small>shape: (5, 3)</small><table border=\"1\" class=\"dataframe\"><thead><tr><th>Id</th><th>Nombre</th><th>Codigo</th></tr><tr><td>i64</td><td>str</td><td>str</td></tr></thead><tbody><tr><td>101</td><td>&quot;Forma de organización del viaj…</td><td>&quot;&quot;</td></tr><tr><td>233</td><td>&quot;Tiempo de trabajo&quot;</td><td>&quot;&quot;</td></tr><tr><td>615</td><td>&quot;Situación personal&quot;</td><td>&quot;&quot;</td></tr><tr><td>848</td><td>&quot;Distribución de la renta&quot;</td><td>&quot;&quot;</td></tr><tr><td>914</td><td>&quot;Certificación ecológica de las…</td><td>&quot;&quot;</td></tr></tbody></table></div>"
      ],
      "text/plain": [
       "shape: (5, 3)\n",
       "┌─────┬─────────────────────────────────┬────────┐\n",
       "│ Id  ┆ Nombre                          ┆ Codigo │\n",
       "│ --- ┆ ---                             ┆ ---    │\n",
       "│ i64 ┆ str                             ┆ str    │\n",
       "╞═════╪═════════════════════════════════╪════════╡\n",
       "│ 101 ┆ Forma de organización del viaj… ┆        │\n",
       "│ 233 ┆ Tiempo de trabajo               ┆        │\n",
       "│ 615 ┆ Situación personal              ┆        │\n",
       "│ 848 ┆ Distribución de la renta        ┆        │\n",
       "│ 914 ┆ Certificación ecológica de las… ┆        │\n",
       "└─────┴─────────────────────────────────┴────────┘"
      ]
     },
     "execution_count": 5,
     "metadata": {},
     "output_type": "execute_result"
    }
   ],
   "source": [
    "# https://servicios.ine.es/wstempus/js/ES/VARIABLES?det=10\n",
    "\n",
    "variables = pl.DataFrame(ine_request(client, \"VARIABLES\"))\n",
    "variables.sample(5)"
   ]
  },
  {
   "cell_type": "code",
   "execution_count": 6,
   "metadata": {},
   "outputs": [],
   "source": [
    "t = []\n",
    "\n",
    "for row in operaciones_disponibles.rows(named=True):\n",
    "    tablas_operacion_url = f\"TABLAS_OPERACION/{row[\"Id\"]}\"\n",
    "    tablas_operacion = ine_request(client, tablas_operacion_url)\n",
    "\n",
    "    t.extend(tablas_operacion)"
   ]
  },
  {
   "cell_type": "code",
   "execution_count": 7,
   "metadata": {},
   "outputs": [
    {
     "name": "stdout",
     "output_type": "stream",
     "text": [
      "(4934, 50)\n"
     ]
    },
    {
     "data": {
      "text/html": [
       "<div><style>\n",
       ".dataframe > thead > tr,\n",
       ".dataframe > tbody > tr {\n",
       "  text-align: right;\n",
       "  white-space: pre-wrap;\n",
       "}\n",
       "</style>\n",
       "<small>shape: (5, 50)</small><table border=\"1\" class=\"dataframe\"><thead><tr><th>Id</th><th>Nombre</th><th>Codigo</th><th>Anyo_Periodo_ini</th><th>FechaRef_fin</th><th>Ultima_Modificacion</th><th>Periodicidad.Id</th><th>Periodicidad.Nombre</th><th>Periodicidad.Codigo</th><th>Publicacion.Id</th><th>Publicacion.Nombre</th><th>Publicacion.Periodicidad.Id</th><th>Publicacion.Periodicidad.Nombre</th><th>Publicacion.Periodicidad.Codigo</th><th>Publicacion.Operacion</th><th>Publicacion.PubFechaAct.Id</th><th>Publicacion.PubFechaAct.Nombre</th><th>Publicacion.PubFechaAct.Fecha</th><th>Publicacion.PubFechaAct.Periodo.Id</th><th>Publicacion.PubFechaAct.Periodo.Valor</th><th>Publicacion.PubFechaAct.Periodo.Periodicidad.Id</th><th>Publicacion.PubFechaAct.Periodo.Periodicidad.Nombre</th><th>Publicacion.PubFechaAct.Periodo.Periodicidad.Codigo</th><th>Publicacion.PubFechaAct.Periodo.Dia_inicio</th><th>Publicacion.PubFechaAct.Periodo.Mes_inicio</th><th>Publicacion.PubFechaAct.Periodo.Codigo</th><th>Publicacion.PubFechaAct.Periodo.Nombre</th><th>Publicacion.PubFechaAct.Periodo.Nombre_largo</th><th>Publicacion.PubFechaAct.Anyo</th><th>Periodo_ini.Id</th><th>Periodo_ini.Valor</th><th>Periodo_ini.Periodicidad.Id</th><th>Periodo_ini.Periodicidad.Nombre</th><th>Periodo_ini.Periodicidad.Codigo</th><th>Periodo_ini.Dia_inicio</th><th>Periodo_ini.Mes_inicio</th><th>Periodo_ini.Codigo</th><th>Periodo_ini.Nombre</th><th>Periodo_ini.Nombre_largo</th><th>Anyo_Periodo_fin</th><th>Periodo_fin.Id</th><th>Periodo_fin.Valor</th><th>Periodo_fin.Periodicidad.Id</th><th>Periodo_fin.Periodicidad.Nombre</th><th>Periodo_fin.Periodicidad.Codigo</th><th>Periodo_fin.Dia_inicio</th><th>Periodo_fin.Mes_inicio</th><th>Periodo_fin.Codigo</th><th>Periodo_fin.Nombre</th><th>Periodo_fin.Nombre_largo</th></tr><tr><td>i64</td><td>str</td><td>str</td><td>str</td><td>str</td><td>i64</td><td>i64</td><td>str</td><td>str</td><td>i64</td><td>str</td><td>i64</td><td>str</td><td>str</td><td>list[struct[5]]</td><td>i64</td><td>str</td><td>i64</td><td>i64</td><td>i64</td><td>i64</td><td>str</td><td>str</td><td>str</td><td>str</td><td>str</td><td>str</td><td>str</td><td>i64</td><td>i64</td><td>i64</td><td>i64</td><td>str</td><td>str</td><td>str</td><td>str</td><td>str</td><td>str</td><td>str</td><td>str</td><td>i64</td><td>i64</td><td>i64</td><td>str</td><td>str</td><td>str</td><td>str</td><td>str</td><td>str</td><td>str</td></tr></thead><tbody><tr><td>2056</td><td>&quot;Ingresos por habitación dispon…</td><td>&quot;NAC&quot;</td><td>&quot;2008&quot;</td><td>&quot;null&quot;</td><td>1727074800000</td><td>1</td><td>&quot;Mensual&quot;</td><td>&quot;M&quot;</td><td>1</td><td>&quot;Coyuntura Turística Hotelera (…</td><td>1</td><td>&quot;Mensual&quot;</td><td>&quot;M&quot;</td><td>[{132,&quot;30179&quot;,&quot;Índice de Precios Hoteleros&quot;,&quot;IPH&quot;,[{79,&quot;Hoteles: encuesta de ocupación, índice de precios e indicadores de rentabilidad&quot;,&quot;/dyngs/INEbase/es/operacion.htm?c=Estadistica_C&amp;cid=1254736177015&amp;idp=1254735576863&quot;}]}, {180,&quot;30230&quot;,&quot;Indicadores de Rentabilidad del Sector Hotelero&quot;,&quot;IRSH&quot;,[{107,&quot;Hoteles: encuesta de ocupación, índice de precios e indicadores de rentabilidad&quot;,&quot;/dyngs/INEbase/es/operacion.htm?c=Estadistica_C&amp;cid=1254736177015&amp;idp=1254735576863&quot;}]}, … {254,&quot;30220&quot;,&quot;Índice de ingresos hoteleros&quot;,&quot;IIH&quot;,null}]</td><td>10481</td><td>&quot;Coyuntura Turística Hotelera (…</td><td>1727074800000</td><td>8</td><td>8</td><td>1</td><td>&quot;Mensual&quot;</td><td>&quot;M&quot;</td><td>&quot;1&quot;</td><td>&quot;8&quot;</td><td>&quot;08&quot;</td><td>&quot;Agosto&quot;</td><td>&quot;Agosto&quot;</td><td>2024</td><td>1</td><td>1</td><td>1</td><td>&quot;Mensual&quot;</td><td>&quot;M&quot;</td><td>&quot;1&quot;</td><td>&quot;1&quot;</td><td>&quot;01&quot;</td><td>&quot;Enero&quot;</td><td>&quot;Enero&quot;</td><td>null</td><td>null</td><td>null</td><td>null</td><td>null</td><td>null</td><td>null</td><td>null</td><td>null</td><td>null</td><td>null</td></tr><tr><td>1443</td><td>&quot;Tasa Global de Fecundidad por …</td><td>&quot;CCAA&quot;</td><td>&quot;1975&quot;</td><td>&quot;null&quot;</td><td>1700647200000</td><td>12</td><td>&quot;Anual&quot;</td><td>&quot;A&quot;</td><td>38</td><td>&quot;Indicadores Demográficos Básic…</td><td>12</td><td>&quot;Anual&quot;</td><td>&quot;A&quot;</td><td>[{33,&quot;30264&quot;,&quot;Indicadores Demográficos Básicos&quot;,&quot;IDB&quot;,[{126,&quot;Indicadores demográficos básicos&quot;,&quot;/dyngs/INEbase/es/operacion.htm?c=Estadistica_C&amp;cid=1254736177003&amp;idp=1254735573002&quot;}]}]</td><td>10892</td><td>&quot;Indicadores Demográficos Básic…</td><td>1721811600000</td><td>28</td><td>1</td><td>12</td><td>&quot;Anual&quot;</td><td>&quot;A&quot;</td><td>&quot;1&quot;</td><td>&quot;1&quot;</td><td>&quot;01&quot;</td><td>&quot;A&quot;</td><td>&quot;Año&quot;</td><td>2022</td><td>28</td><td>1</td><td>12</td><td>&quot;Anual&quot;</td><td>&quot;A&quot;</td><td>&quot;1&quot;</td><td>&quot;1&quot;</td><td>&quot;01&quot;</td><td>&quot;A&quot;</td><td>&quot;Año&quot;</td><td>null</td><td>null</td><td>null</td><td>null</td><td>null</td><td>null</td><td>null</td><td>null</td><td>null</td><td>null</td><td>null</td></tr><tr><td>13546</td><td>&quot;Ocupados por grandes grupos de…</td><td>&quot;NAC&quot;</td><td>&quot;2010&quot;</td><td>null</td><td>1480500000000</td><td>12</td><td>&quot;Anual&quot;</td><td>&quot;A&quot;</td><td>235</td><td>&quot;Estadística de Movilidad Labor…</td><td>12</td><td>&quot;Anual&quot;</td><td>&quot;A&quot;</td><td>[{234,&quot;30209&quot;,&quot;Estadística de Movilidad Laboral y Geográfica&quot;,&quot;EMLG&quot;,[{93,&quot;Estadística de movilidad laboral y geográfica&quot;,&quot;/dyngs/INEbase/es/operacion.htm?c=Estadistica_C&amp;cid=1254736176909&amp;idp=1254735976597&quot;}]}]</td><td>10159</td><td>&quot;Estadística de Movilidad Labor…</td><td>1695373200000</td><td>28</td><td>1</td><td>12</td><td>&quot;Anual&quot;</td><td>&quot;A&quot;</td><td>&quot;1&quot;</td><td>&quot;1&quot;</td><td>&quot;01&quot;</td><td>&quot;A&quot;</td><td>&quot;Año&quot;</td><td>2023</td><td>28</td><td>1</td><td>12</td><td>&quot;Anual&quot;</td><td>&quot;A&quot;</td><td>&quot;1&quot;</td><td>&quot;1&quot;</td><td>&quot;01&quot;</td><td>&quot;A&quot;</td><td>&quot;Año&quot;</td><td>&quot;2010&quot;</td><td>28</td><td>1</td><td>12</td><td>&quot;Anual&quot;</td><td>&quot;A&quot;</td><td>&quot;1&quot;</td><td>&quot;1&quot;</td><td>&quot;01&quot;</td><td>&quot;A&quot;</td><td>&quot;Año&quot;</td></tr><tr><td>65899</td><td>&quot;Inactivos que han trabajado an…</td><td>&quot;NAC&quot;</td><td>&quot;2006&quot;</td><td>&quot;null&quot;</td><td>1400835600000</td><td>12</td><td>&quot;Anual&quot;</td><td>&quot;A&quot;</td><td>347</td><td>&quot;Encuesta de Población Activa. …</td><td>12</td><td>&quot;Anual&quot;</td><td>&quot;A&quot;</td><td>[{293,&quot;30308&quot;,&quot;Encuesta de Población Activa (EPA)&quot;,&quot;EPA&quot;,[{138,&quot;Encuesta de población activa&quot;,&quot;/dyngs/INEbase/es/operacion.htm?c=Estadistica_C&amp;cid=1254736176918&amp;idp=1254735976595&quot;}]}]</td><td>10632</td><td>&quot;Encuesta de Población Activa. …</td><td>1713517200000</td><td>28</td><td>1</td><td>12</td><td>&quot;Anual&quot;</td><td>&quot;A&quot;</td><td>&quot;1&quot;</td><td>&quot;1&quot;</td><td>&quot;01&quot;</td><td>&quot;A&quot;</td><td>&quot;Año&quot;</td><td>2023</td><td>28</td><td>1</td><td>12</td><td>&quot;Anual&quot;</td><td>&quot;A&quot;</td><td>&quot;1&quot;</td><td>&quot;1&quot;</td><td>&quot;01&quot;</td><td>&quot;A&quot;</td><td>&quot;Año&quot;</td><td>null</td><td>null</td><td>null</td><td>null</td><td>null</td><td>null</td><td>null</td><td>null</td><td>null</td><td>null</td><td>null</td></tr><tr><td>56946</td><td>&quot;Población residente por fecha,…</td><td>&quot;PROV_SDET&quot;</td><td>&quot;2002&quot;</td><td>null</td><td>1707984000000</td><td>3</td><td>&quot;Trimestral&quot;</td><td>&quot;Q&quot;</td><td>610</td><td>&quot;Estadística Continua de Poblac…</td><td>3</td><td>&quot;Trimestral&quot;</td><td>&quot;Q&quot;</td><td>[{450,&quot;30282&quot;,&quot;Estadística Continua de Población&quot;,&quot;ECP&quot;,null}]</td><td>10370</td><td>&quot;Estadística Continua de Poblac…</td><td>1723014000000</td><td>21</td><td>3</td><td>3</td><td>&quot;Trimestral&quot;</td><td>&quot;Q&quot;</td><td>&quot;1&quot;</td><td>&quot;7&quot;</td><td>&quot;III&quot;</td><td>&quot;T3&quot;</td><td>&quot;Trimestre 3/&quot;</td><td>2024</td><td>19</td><td>1</td><td>3</td><td>&quot;Trimestral&quot;</td><td>&quot;Q&quot;</td><td>&quot;1&quot;</td><td>&quot;1&quot;</td><td>&quot;I&quot;</td><td>&quot;T1&quot;</td><td>&quot;Trimestre 1/&quot;</td><td>&quot;2023&quot;</td><td>19</td><td>1</td><td>3</td><td>&quot;Trimestral&quot;</td><td>&quot;Q&quot;</td><td>&quot;1&quot;</td><td>&quot;1&quot;</td><td>&quot;I&quot;</td><td>&quot;T1&quot;</td><td>&quot;Trimestre 1/&quot;</td></tr></tbody></table></div>"
      ],
      "text/plain": [
       "shape: (5, 50)\n",
       "┌───────┬────────────┬───────────┬────────────┬───┬────────────┬───────────┬───────────┬───────────┐\n",
       "│ Id    ┆ Nombre     ┆ Codigo    ┆ Anyo_Perio ┆ … ┆ Periodo_fi ┆ Periodo_f ┆ Periodo_f ┆ Periodo_f │\n",
       "│ ---   ┆ ---        ┆ ---       ┆ do_ini     ┆   ┆ n.Mes_inic ┆ in.Codigo ┆ in.Nombre ┆ in.Nombre │\n",
       "│ i64   ┆ str        ┆ str       ┆ ---        ┆   ┆ io         ┆ ---       ┆ ---       ┆ _largo    │\n",
       "│       ┆            ┆           ┆ str        ┆   ┆ ---        ┆ str       ┆ str       ┆ ---       │\n",
       "│       ┆            ┆           ┆            ┆   ┆ str        ┆           ┆           ┆ str       │\n",
       "╞═══════╪════════════╪═══════════╪════════════╪═══╪════════════╪═══════════╪═══════════╪═══════════╡\n",
       "│ 2056  ┆ Ingresos   ┆ NAC       ┆ 2008       ┆ … ┆ null       ┆ null      ┆ null      ┆ null      │\n",
       "│       ┆ por        ┆           ┆            ┆   ┆            ┆           ┆           ┆           │\n",
       "│       ┆ habitación ┆           ┆            ┆   ┆            ┆           ┆           ┆           │\n",
       "│       ┆ dispon…    ┆           ┆            ┆   ┆            ┆           ┆           ┆           │\n",
       "│ 1443  ┆ Tasa       ┆ CCAA      ┆ 1975       ┆ … ┆ null       ┆ null      ┆ null      ┆ null      │\n",
       "│       ┆ Global de  ┆           ┆            ┆   ┆            ┆           ┆           ┆           │\n",
       "│       ┆ Fecundidad ┆           ┆            ┆   ┆            ┆           ┆           ┆           │\n",
       "│       ┆ por …      ┆           ┆            ┆   ┆            ┆           ┆           ┆           │\n",
       "│ 13546 ┆ Ocupados   ┆ NAC       ┆ 2010       ┆ … ┆ 1          ┆ 01        ┆ A         ┆ Año       │\n",
       "│       ┆ por        ┆           ┆            ┆   ┆            ┆           ┆           ┆           │\n",
       "│       ┆ grandes    ┆           ┆            ┆   ┆            ┆           ┆           ┆           │\n",
       "│       ┆ grupos de… ┆           ┆            ┆   ┆            ┆           ┆           ┆           │\n",
       "│ 65899 ┆ Inactivos  ┆ NAC       ┆ 2006       ┆ … ┆ null       ┆ null      ┆ null      ┆ null      │\n",
       "│       ┆ que han    ┆           ┆            ┆   ┆            ┆           ┆           ┆           │\n",
       "│       ┆ trabajado  ┆           ┆            ┆   ┆            ┆           ┆           ┆           │\n",
       "│       ┆ an…        ┆           ┆            ┆   ┆            ┆           ┆           ┆           │\n",
       "│ 56946 ┆ Población  ┆ PROV_SDET ┆ 2002       ┆ … ┆ 1          ┆ I         ┆ T1        ┆ Trimestre │\n",
       "│       ┆ residente  ┆           ┆            ┆   ┆            ┆           ┆           ┆ 1/        │\n",
       "│       ┆ por        ┆           ┆            ┆   ┆            ┆           ┆           ┆           │\n",
       "│       ┆ fecha,…    ┆           ┆            ┆   ┆            ┆           ┆           ┆           │\n",
       "└───────┴────────────┴───────────┴────────────┴───┴────────────┴───────────┴───────────┴───────────┘"
      ]
     },
     "execution_count": 7,
     "metadata": {},
     "output_type": "execute_result"
    }
   ],
   "source": [
    "import os\n",
    "\n",
    "os.makedirs(\"dataset\", exist_ok=True)\n",
    "\n",
    "tablas = pl.json_normalize(t)\n",
    "print(tablas.shape)\n",
    "tablas.write_ndjson(\"dataset/tablas.jsonl\")\n",
    "tablas.sample(5)"
   ]
  },
  {
   "cell_type": "code",
   "execution_count": 8,
   "metadata": {},
   "outputs": [],
   "source": [
    "def generate_readme_content(data):\n",
    "    return f\"\"\"# {data['Nombre']}\n",
    "\n",
    "- **ID:** [{data['Id']}](https://www.ine.es/jaxiT3/Tabla.htm?t={data['Id']})\n",
    "- **Código:** {data['Codigo']}\n",
    "- **Año de Inicio del Periodo:** {data['Anyo_Periodo_ini']}\n",
    "- **Fecha de Referencia Final:** {data['FechaRef_fin']}\n",
    "- **Última Modificación:** {data['Ultima_Modificacion']}\n",
    "- **Periodicidad:** {data['Periodicidad.Nombre']} ({data['Periodicidad.Codigo']})\n",
    "\n",
    "## Publicación\n",
    "\n",
    "- **ID:** {data['Publicacion.Id']}\n",
    "- **Nombre:** {data['Publicacion.Nombre']}\n",
    "- **Periodicidad:** {data['Publicacion.Periodicidad.Nombre']} ({data['Publicacion.Periodicidad.Codigo']})\n",
    "\n",
    "### Operación\n",
    "\n",
    "- **ID:** {data['Publicacion.Operacion'][0]['Id']}\n",
    "- **Código IOE:** {data['Publicacion.Operacion'][0]['Cod_IOE']}\n",
    "- **Nombre:** {data['Publicacion.Operacion'][0]['Nombre']}\n",
    "- **Referencia:** {data['Publicacion.Operacion'][0]['Referencia']}\n",
    "\n",
    "### Última Publicación\n",
    "\n",
    "- **ID:** {data['Publicacion.PubFechaAct.Id']}\n",
    "- **Nombre:** {data['Publicacion.PubFechaAct.Nombre']}\n",
    "- **Fecha:** {data['Publicacion.PubFechaAct.Fecha']}\n",
    "- **Periodo ID:** {data['Publicacion.PubFechaAct.Periodo.Id']}\n",
    "- **Periodo Valor:** {data['Publicacion.PubFechaAct.Periodo.Valor']}\n",
    "- **Periodo Periodicidad:** {data['Publicacion.PubFechaAct.Periodo.Periodicidad.Nombre']} ({data['Publicacion.PubFechaAct.Periodo.Periodicidad.Codigo']})\n",
    "- **Periodo Día de Inicio:** {data['Publicacion.PubFechaAct.Periodo.Dia_inicio']}\n",
    "- **Periodo Mes de Inicio:** {data['Publicacion.PubFechaAct.Periodo.Mes_inicio']}\n",
    "- **Periodo Código:** {data['Publicacion.PubFechaAct.Periodo.Codigo']}\n",
    "- **Periodo Nombre:** {data['Publicacion.PubFechaAct.Periodo.Nombre']}\n",
    "- **Periodo Nombre Largo:** {data['Publicacion.PubFechaAct.Periodo.Nombre_largo']}\n",
    "- **Año:** {data['Publicacion.PubFechaAct.Anyo']}\n",
    "\n",
    "## Periodo Inicial\n",
    "\n",
    "- **ID:** {data['Periodo_ini.Id']}\n",
    "- **Valor:** {data['Periodo_ini.Valor']}\n",
    "- **Periodicidad:** {data['Periodo_ini.Periodicidad.Nombre']} ({data['Periodo_ini.Periodicidad.Codigo']})\n",
    "- **Día de Inicio:** {data['Periodo_ini.Dia_inicio']}\n",
    "- **Mes de Inicio:** {data['Periodo_ini.Mes_inicio']}\n",
    "- **Código:** {data['Periodo_ini.Codigo']}\n",
    "- **Nombre:** {data['Periodo_ini.Nombre']}\n",
    "- **Nombre Largo:** {data['Periodo_ini.Nombre_largo']}\n",
    "\n",
    "## Periodo Final\n",
    "\n",
    "- **Año de Fin del Periodo:** {data['Anyo_Periodo_fin']}\n",
    "- **ID:** {data['Periodo_fin.Id']}\n",
    "- **Valor:** {data['Periodo_fin.Valor']}\n",
    "- **Periodicidad:** {data['Periodo_fin.Periodicidad.Nombre']} ({data['Periodo_fin.Periodicidad.Codigo']})\n",
    "- **Día de Inicio:** {data['Periodo_fin.Dia_inicio']}\n",
    "- **Mes de Inicio:** {data['Periodo_fin.Mes_inicio']}\n",
    "- **Código:** {data['Periodo_fin.Codigo']}\n",
    "- **Nombre:** {data['Periodo_fin.Nombre']}\n",
    "- **Nombre Largo:** {data['Periodo_fin.Nombre_largo']}\n",
    "\n",
    "## JSON\n",
    "\n",
    "```json\n",
    "{data}\n",
    "```\n",
    "\"\"\""
   ]
  },
  {
   "cell_type": "code",
   "execution_count": 9,
   "metadata": {},
   "outputs": [],
   "source": [
    "def get_series_tabla_url(tabla_id):\n",
    "    return (\n",
    "        f\"https://servicios.ine.es/wstempus/jsCache/ES/SERIES_TABLA/{tabla_id}?det=10\"\n",
    "    )\n",
    "\n",
    "\n",
    "def get_tablas_download_url(tabla_id):\n",
    "    return f\"https://www.ine.es/jaxiT3/files/t/es/csv_bdsc/{tabla_id}.csv\"\n",
    "\n",
    "\n",
    "tablas = tablas.with_columns(\n",
    "    pl.col(\"Id\")\n",
    "    .map_elements(get_series_tabla_url, return_dtype=pl.String)\n",
    "    .alias(\"series_tabla_url\"),\n",
    "    pl.col(\"Id\")\n",
    "    .map_elements(get_tablas_download_url, return_dtype=pl.String)\n",
    "    .alias(\"tablas_download_url\"),\n",
    ")"
   ]
  },
  {
   "cell_type": "code",
   "execution_count": 10,
   "metadata": {},
   "outputs": [],
   "source": [
    "# tablas = tablas.sample(10)"
   ]
  },
  {
   "cell_type": "code",
   "execution_count": 10,
   "metadata": {},
   "outputs": [],
   "source": [
    "with open(\"series.input.spec\", \"w\") as f:\n",
    "    for t in tablas.rows(named=True):\n",
    "        f.write(f\"{t['series_tabla_url']}\\n\")\n",
    "        f.write(\"\\tout=series_metadata.json\\n\")\n",
    "        f.write(f\"\\tdir=dataset/tablas/{t['Id']}\\n\\n\")\n",
    "\n",
    "with open(\"tablas.input.spec\", \"w\") as f:\n",
    "    for t in tablas.rows(named=True):\n",
    "        f.write(f\"{t['tablas_download_url']}\\n\")\n",
    "        f.write(f\"\\tout={t['Id']}.csv\\n\")\n",
    "        f.write(f\"\\tdir=dataset/tablas/{t['Id']}\\n\\n\")"
   ]
  },
  {
   "cell_type": "code",
   "execution_count": 11,
   "metadata": {},
   "outputs": [],
   "source": [
    "import subprocess\n",
    "\n",
    "series_result = subprocess.run(\n",
    "    [\n",
    "        \"aria2c\",\n",
    "        \"-i\",\n",
    "        \"series.input.spec\",\n",
    "        \"-j\",\n",
    "        \"50\",\n",
    "        \"-x\",\n",
    "        \"16\",\n",
    "        \"-s\",\n",
    "        \"8\",\n",
    "        \"-c\",\n",
    "        \"--file-allocation=none\",\n",
    "        \"--console-log-level=warn\",\n",
    "    ],\n",
    "    capture_output=True,\n",
    "    text=True,\n",
    ")"
   ]
  },
  {
   "cell_type": "code",
   "execution_count": null,
   "metadata": {},
   "outputs": [],
   "source": [
    "print(series_result.stdout)"
   ]
  },
  {
   "cell_type": "code",
   "execution_count": 13,
   "metadata": {},
   "outputs": [
    {
     "name": "stdout",
     "output_type": "stream",
     "text": [
      "Missing metadata files: 3\n"
     ]
    }
   ],
   "source": [
    "result = subprocess.run(\n",
    "    [\"grep\", \"-rl\", \"unos minutos\", \"dataset/tablas\"],\n",
    "    capture_output=True,\n",
    "    text=True,\n",
    ")\n",
    "\n",
    "missing_metadata_files = result.stdout.splitlines()\n",
    "\n",
    "print(f\"Missing metadata files: {len(missing_metadata_files)}\")"
   ]
  },
  {
   "cell_type": "code",
   "execution_count": 14,
   "metadata": {},
   "outputs": [],
   "source": [
    "with open(\"missing_series.input.spec\", \"w\") as f:\n",
    "    for file in missing_metadata_files:\n",
    "        tabla_id = file.split(\"/\")[-2]\n",
    "\n",
    "        f.write(\n",
    "            f\"https://servicios.ine.es/wstempus/jsCache/ES/SERIES_TABLA/{tabla_id}?det=10\\n\"\n",
    "        )\n",
    "        f.write(\"\\tout=metadata.json\\n\")\n",
    "        f.write(f\"\\tdir=dataset/tablas/{tabla_id}\\n\\n\")\n"
   ]
  },
  {
   "cell_type": "code",
   "execution_count": 15,
   "metadata": {},
   "outputs": [],
   "source": [
    "missing_series_result = subprocess.run(\n",
    "    [\n",
    "        \"aria2c\",\n",
    "        \"-i\",\n",
    "        \"missing_series.input.spec\",\n",
    "        \"-j\",\n",
    "        \"50\",\n",
    "        \"-x\",\n",
    "        \"16\",\n",
    "        \"-s\",\n",
    "        \"8\",\n",
    "        \"-c\",\n",
    "        \"--file-allocation=none\",\n",
    "        \"--console-log-level=warn\",\n",
    "        \"--allow-overwrite=true\",\n",
    "    ],\n",
    "    capture_output=True,\n",
    "    text=True,\n",
    ")"
   ]
  },
  {
   "cell_type": "code",
   "execution_count": null,
   "metadata": {},
   "outputs": [],
   "source": [
    "print(missing_series_result.stdout)"
   ]
  },
  {
   "cell_type": "code",
   "execution_count": 17,
   "metadata": {},
   "outputs": [],
   "source": [
    "tablas_result = subprocess.run(\n",
    "    [\n",
    "        \"aria2c\",\n",
    "        \"-i\",\n",
    "        \"tablas.input.spec\",\n",
    "        \"-j\",\n",
    "        \"50\",\n",
    "        \"-x\",\n",
    "        \"16\",\n",
    "        \"-s\",\n",
    "        \"8\",\n",
    "        \"-c\",\n",
    "        \"--file-allocation=none\",\n",
    "        \"--console-log-level=warn\",\n",
    "        \"--allow-overwrite=true\",\n",
    "    ],\n",
    "    capture_output=True,\n",
    "    text=True,\n",
    ")"
   ]
  },
  {
   "cell_type": "code",
   "execution_count": null,
   "metadata": {},
   "outputs": [],
   "source": [
    "print(tablas_result.stdout)"
   ]
  },
  {
   "cell_type": "code",
   "execution_count": 31,
   "metadata": {},
   "outputs": [
    {
     "name": "stderr",
     "output_type": "stream",
     "text": [
      "100%|██████████| 4843/4843 [03:41<00:00, 21.89it/s] \n"
     ]
    }
   ],
   "source": [
    "import glob\n",
    "\n",
    "from tqdm import tqdm\n",
    "\n",
    "csv_files = glob.glob(\"dataset/tablas/*/*.csv\")\n",
    "\n",
    "for file in tqdm(csv_files):\n",
    "    filename = file.split(\".\")[-2].split(\"/\")[-1]\n",
    "\n",
    "    table_metadata = tablas.filter(pl.col(\"Id\") == int(filename)).to_struct()\n",
    "\n",
    "    if table_metadata.shape[0] > 0:\n",
    "        with open(f\"dataset/tablas/{filename}/README.md\", \"w\") as f:\n",
    "            table_metadata = table_metadata[0]\n",
    "            f.write(generate_readme_content(table_metadata))\n",
    "\n",
    "    (\n",
    "        pl.scan_csv(\n",
    "            file,\n",
    "            separator=\";\",\n",
    "            ignore_errors=True,\n",
    "            truncate_ragged_lines=True,\n",
    "        ).sink_parquet(\n",
    "            f\"dataset/tablas/{filename}/datos.parquet\",\n",
    "            compression=\"zstd\",\n",
    "            row_group_size=1024**2,\n",
    "            type_coercion=True,\n",
    "        )\n",
    "    )\n"
   ]
  },
  {
   "cell_type": "code",
   "execution_count": 32,
   "metadata": {},
   "outputs": [],
   "source": [
    "import os\n",
    "\n",
    "for file in csv_files:\n",
    "    os.remove(file)"
   ]
  },
  {
   "cell_type": "code",
   "execution_count": null,
   "metadata": {},
   "outputs": [],
   "source": [
    "import os\n",
    "\n",
    "from huggingface_hub import HfApi\n",
    "\n",
    "api = HfApi(token=os.getenv(\"HUGGINGFACE_TOKEN\"))"
   ]
  },
  {
   "cell_type": "code",
   "execution_count": null,
   "metadata": {},
   "outputs": [],
   "source": [
    "import shutil\n",
    "\n",
    "shutil.copy(\"DATASET_README.md\", \"dataset/README.md\")\n",
    "\n",
    "api.upload_large_folder(\n",
    "    folder_path=\"dataset\", repo_id=\"davidgasquez/ine\", repo_type=\"dataset\"\n",
    ")"
   ]
  }
 ],
 "metadata": {
  "kernelspec": {
   "display_name": ".venv",
   "language": "python",
   "name": "python3"
  },
  "language_info": {
   "codemirror_mode": {
    "name": "ipython",
    "version": 3
   },
   "file_extension": ".py",
   "mimetype": "text/x-python",
   "name": "python",
   "nbconvert_exporter": "python",
   "pygments_lexer": "ipython3",
   "version": "3.12.6"
  }
 },
 "nbformat": 4,
 "nbformat_minor": 2
}
