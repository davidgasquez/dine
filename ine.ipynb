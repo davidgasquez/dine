{
 "cells": [
  {
   "cell_type": "code",
   "execution_count": 1,
   "metadata": {},
   "outputs": [],
   "source": [
    "import httpx\n",
    "import polars as pl"
   ]
  },
  {
   "cell_type": "code",
   "execution_count": 2,
   "metadata": {},
   "outputs": [],
   "source": [
    "INE_BASE_URL = \"https://servicios.ine.es/wstempus/js/ES\"\n",
    "\n",
    "client = httpx.Client(\n",
    "    base_url=INE_BASE_URL,\n",
    "    limits=httpx.Limits(max_keepalive_connections=20),\n",
    "    transport=httpx.HTTPTransport(retries=3),\n",
    ")"
   ]
  },
  {
   "cell_type": "code",
   "execution_count": 3,
   "metadata": {},
   "outputs": [],
   "source": [
    "def ine_request(client: httpx.Client, endpoint, paginate=True):\n",
    "    page = 1\n",
    "    data = []\n",
    "\n",
    "    while True:\n",
    "        params = {\"det\": 10}\n",
    "\n",
    "        if paginate:\n",
    "            params[\"page\"] = page\n",
    "\n",
    "        response = client.get(\n",
    "            f\"/{endpoint}\", params=params, follow_redirects=True\n",
    "        ).json()\n",
    "\n",
    "        if not response:\n",
    "            break\n",
    "\n",
    "        data.extend(response)\n",
    "\n",
    "        if len(response) < 500 or not paginate:\n",
    "            break\n",
    "\n",
    "        page += 1\n",
    "\n",
    "    return data"
   ]
  },
  {
   "cell_type": "code",
   "execution_count": 4,
   "metadata": {},
   "outputs": [
    {
     "name": "stdout",
     "output_type": "stream",
     "text": [
      "(108, 6)\n"
     ]
    },
    {
     "data": {
      "text/html": [
       "<div><style>\n",
       ".dataframe > thead > tr,\n",
       ".dataframe > tbody > tr {\n",
       "  text-align: right;\n",
       "  white-space: pre-wrap;\n",
       "}\n",
       "</style>\n",
       "<small>shape: (5, 6)</small><table border=\"1\" class=\"dataframe\"><thead><tr><th>Id</th><th>Cod_IOE</th><th>Nombre</th><th>Codigo</th><th>Referencia</th><th>Url</th></tr><tr><td>i64</td><td>str</td><td>str</td><td>str</td><td>list[struct[3]]</td><td>str</td></tr></thead><tbody><tr><td>42</td><td>&quot;30052&quot;</td><td>&quot;Índices de Cifras de Negocios …</td><td>&quot;ICN&quot;</td><td>[{23,&quot;Índices de cifras de negocios en la industria&quot;,&quot;/dyngs/INEbase/es/operacion.htm?c=Estadistica_C&amp;cid=1254736148782&amp;idp=1254735576715&quot;}]</td><td>null</td></tr><tr><td>66</td><td>&quot;30463&quot;</td><td>&quot;Estadística de Nulidades, Sepa…</td><td>&quot;ENSD&quot;</td><td>[{166,&quot;Estadística de nulidades, separaciones y divorcios&quot;,&quot;/dyngs/INEbase/es/operacion.htm?c=Estadistica_C&amp;cid=1254736176798&amp;idp=1254735573206&quot;}]</td><td>null</td></tr><tr><td>406</td><td>&quot;30324&quot;</td><td>&quot;Estimacion del numero de defun…</td><td>&quot;EDES&quot;</td><td>null</td><td>&quot;https://www.ine.es/experimenta…</td></tr><tr><td>197</td><td>&quot;30271&quot;</td><td>&quot;Tablas de Mortalidad&quot;</td><td>&quot;TM&quot;</td><td>[{127,&quot;Tablas de mortalidad&quot;,&quot;/dyngs/INEbase/es/operacion.htm?c=Estadistica_C&amp;cid=1254736177004&amp;idp=1254735573002&quot;}]</td><td>null</td></tr><tr><td>215</td><td>&quot;30468&quot;</td><td>&quot;Estadística de Violencia Domés…</td><td>&quot;VGD&quot;</td><td>[{171,&quot;Estadística de violencia doméstica y violencia de género&quot;,&quot;/dyngs/INEbase/es/operacion.htm?c=Estadistica_C&amp;cid=1254736176866&amp;idp=1254735573206&quot;}]</td><td>null</td></tr></tbody></table></div>"
      ],
      "text/plain": [
       "shape: (5, 6)\n",
       "┌─────┬─────────┬────────────────────────┬────────┬────────────────────────┬───────────────────────┐\n",
       "│ Id  ┆ Cod_IOE ┆ Nombre                 ┆ Codigo ┆ Referencia             ┆ Url                   │\n",
       "│ --- ┆ ---     ┆ ---                    ┆ ---    ┆ ---                    ┆ ---                   │\n",
       "│ i64 ┆ str     ┆ str                    ┆ str    ┆ list[struct[3]]        ┆ str                   │\n",
       "╞═════╪═════════╪════════════════════════╪════════╪════════════════════════╪═══════════════════════╡\n",
       "│ 42  ┆ 30052   ┆ Índices de Cifras de   ┆ ICN    ┆ [{23,\"Índices de       ┆ null                  │\n",
       "│     ┆         ┆ Negocios …             ┆        ┆ cifras de neg…         ┆                       │\n",
       "│ 66  ┆ 30463   ┆ Estadística de         ┆ ENSD   ┆ [{166,\"Estadística de  ┆ null                  │\n",
       "│     ┆         ┆ Nulidades, Sepa…       ┆        ┆ nulidade…              ┆                       │\n",
       "│ 406 ┆ 30324   ┆ Estimacion del numero  ┆ EDES   ┆ null                   ┆ https://www.ine.es/ex │\n",
       "│     ┆         ┆ de defun…              ┆        ┆                        ┆ perimenta…            │\n",
       "│ 197 ┆ 30271   ┆ Tablas de Mortalidad   ┆ TM     ┆ [{127,\"Tablas de       ┆ null                  │\n",
       "│     ┆         ┆                        ┆        ┆ mortalidad\",\"…         ┆                       │\n",
       "│ 215 ┆ 30468   ┆ Estadística de         ┆ VGD    ┆ [{171,\"Estadística de  ┆ null                  │\n",
       "│     ┆         ┆ Violencia Domés…       ┆        ┆ violenci…              ┆                       │\n",
       "└─────┴─────────┴────────────────────────┴────────┴────────────────────────┴───────────────────────┘"
      ]
     },
     "execution_count": 4,
     "metadata": {},
     "output_type": "execute_result"
    }
   ],
   "source": [
    "# https://servicios.ine.es/wstempus/js/ES/OPERACIONES_DISPONIBLES\n",
    "\n",
    "operaciones_disponibles = pl.DataFrame(ine_request(client, \"OPERACIONES_DISPONIBLES\"))\n",
    "print(operaciones_disponibles.shape)\n",
    "operaciones_disponibles.sample(5)"
   ]
  },
  {
   "cell_type": "code",
   "execution_count": 5,
   "metadata": {},
   "outputs": [
    {
     "data": {
      "text/html": [
       "<div><style>\n",
       ".dataframe > thead > tr,\n",
       ".dataframe > tbody > tr {\n",
       "  text-align: right;\n",
       "  white-space: pre-wrap;\n",
       "}\n",
       "</style>\n",
       "<small>shape: (5, 3)</small><table border=\"1\" class=\"dataframe\"><thead><tr><th>Id</th><th>Nombre</th><th>Codigo</th></tr><tr><td>i64</td><td>str</td><td>str</td></tr></thead><tbody><tr><td>740</td><td>&quot;Tipo de matrimonio según sexo&quot;</td><td>&quot;&quot;</td></tr><tr><td>729</td><td>&quot;Lugar de nacimiento del cónyug…</td><td>&quot;&quot;</td></tr><tr><td>956</td><td>&quot;SAU y Otras tierras&quot;</td><td>&quot;&quot;</td></tr><tr><td>1042</td><td>&quot;Año de llegada a Municipio&quot;</td><td>&quot;&quot;</td></tr><tr><td>774</td><td>&quot;Tamaño del municipio de nacimi…</td><td>&quot;&quot;</td></tr></tbody></table></div>"
      ],
      "text/plain": [
       "shape: (5, 3)\n",
       "┌──────┬─────────────────────────────────┬────────┐\n",
       "│ Id   ┆ Nombre                          ┆ Codigo │\n",
       "│ ---  ┆ ---                             ┆ ---    │\n",
       "│ i64  ┆ str                             ┆ str    │\n",
       "╞══════╪═════════════════════════════════╪════════╡\n",
       "│ 740  ┆ Tipo de matrimonio según sexo   ┆        │\n",
       "│ 729  ┆ Lugar de nacimiento del cónyug… ┆        │\n",
       "│ 956  ┆ SAU y Otras tierras             ┆        │\n",
       "│ 1042 ┆ Año de llegada a Municipio      ┆        │\n",
       "│ 774  ┆ Tamaño del municipio de nacimi… ┆        │\n",
       "└──────┴─────────────────────────────────┴────────┘"
      ]
     },
     "execution_count": 5,
     "metadata": {},
     "output_type": "execute_result"
    }
   ],
   "source": [
    "# https://servicios.ine.es/wstempus/js/ES/VARIABLES?det=10\n",
    "\n",
    "variables = pl.DataFrame(ine_request(client, \"VARIABLES\"))\n",
    "variables.sample(5)"
   ]
  },
  {
   "cell_type": "code",
   "execution_count": 6,
   "metadata": {},
   "outputs": [],
   "source": [
    "t = []\n",
    "\n",
    "for row in operaciones_disponibles.rows(named=True):\n",
    "    tablas_operacion_url = f\"TABLAS_OPERACION/{row[\"Id\"]}\"\n",
    "    tablas_operacion = ine_request(client, tablas_operacion_url)\n",
    "\n",
    "    t.extend(tablas_operacion)"
   ]
  },
  {
   "cell_type": "code",
   "execution_count": 7,
   "metadata": {},
   "outputs": [
    {
     "name": "stdout",
     "output_type": "stream",
     "text": [
      "(4941, 50)\n"
     ]
    },
    {
     "data": {
      "text/html": [
       "<div><style>\n",
       ".dataframe > thead > tr,\n",
       ".dataframe > tbody > tr {\n",
       "  text-align: right;\n",
       "  white-space: pre-wrap;\n",
       "}\n",
       "</style>\n",
       "<small>shape: (5, 50)</small><table border=\"1\" class=\"dataframe\"><thead><tr><th>Id</th><th>Nombre</th><th>Codigo</th><th>Anyo_Periodo_ini</th><th>FechaRef_fin</th><th>Ultima_Modificacion</th><th>Periodicidad.Id</th><th>Periodicidad.Nombre</th><th>Periodicidad.Codigo</th><th>Publicacion.Id</th><th>Publicacion.Nombre</th><th>Publicacion.Periodicidad.Id</th><th>Publicacion.Periodicidad.Nombre</th><th>Publicacion.Periodicidad.Codigo</th><th>Publicacion.Operacion</th><th>Publicacion.PubFechaAct.Id</th><th>Publicacion.PubFechaAct.Nombre</th><th>Publicacion.PubFechaAct.Fecha</th><th>Publicacion.PubFechaAct.Periodo.Id</th><th>Publicacion.PubFechaAct.Periodo.Valor</th><th>Publicacion.PubFechaAct.Periodo.Periodicidad.Id</th><th>Publicacion.PubFechaAct.Periodo.Periodicidad.Nombre</th><th>Publicacion.PubFechaAct.Periodo.Periodicidad.Codigo</th><th>Publicacion.PubFechaAct.Periodo.Dia_inicio</th><th>Publicacion.PubFechaAct.Periodo.Mes_inicio</th><th>Publicacion.PubFechaAct.Periodo.Codigo</th><th>Publicacion.PubFechaAct.Periodo.Nombre</th><th>Publicacion.PubFechaAct.Periodo.Nombre_largo</th><th>Publicacion.PubFechaAct.Anyo</th><th>Periodo_ini.Id</th><th>Periodo_ini.Valor</th><th>Periodo_ini.Periodicidad.Id</th><th>Periodo_ini.Periodicidad.Nombre</th><th>Periodo_ini.Periodicidad.Codigo</th><th>Periodo_ini.Dia_inicio</th><th>Periodo_ini.Mes_inicio</th><th>Periodo_ini.Codigo</th><th>Periodo_ini.Nombre</th><th>Periodo_ini.Nombre_largo</th><th>Anyo_Periodo_fin</th><th>Periodo_fin.Id</th><th>Periodo_fin.Valor</th><th>Periodo_fin.Periodicidad.Id</th><th>Periodo_fin.Periodicidad.Nombre</th><th>Periodo_fin.Periodicidad.Codigo</th><th>Periodo_fin.Dia_inicio</th><th>Periodo_fin.Mes_inicio</th><th>Periodo_fin.Codigo</th><th>Periodo_fin.Nombre</th><th>Periodo_fin.Nombre_largo</th></tr><tr><td>i64</td><td>str</td><td>str</td><td>str</td><td>str</td><td>i64</td><td>i64</td><td>str</td><td>str</td><td>i64</td><td>str</td><td>i64</td><td>str</td><td>str</td><td>list[struct[5]]</td><td>i64</td><td>str</td><td>i64</td><td>i64</td><td>i64</td><td>i64</td><td>str</td><td>str</td><td>str</td><td>str</td><td>str</td><td>str</td><td>str</td><td>i64</td><td>i64</td><td>i64</td><td>i64</td><td>str</td><td>str</td><td>str</td><td>str</td><td>str</td><td>str</td><td>str</td><td>str</td><td>i64</td><td>i64</td><td>i64</td><td>str</td><td>str</td><td>str</td><td>str</td><td>str</td><td>str</td><td>str</td></tr></thead><tbody><tr><td>49126</td><td>&quot;Relaciones de las víctimas con…</td><td>&quot;NAC&quot;</td><td>&quot;2011&quot;</td><td>&quot;null&quot;</td><td>1715936400000</td><td>12</td><td>&quot;Anual&quot;</td><td>&quot;A&quot;</td><td>312</td><td>&quot;Estadística de Violencia Domés…</td><td>12</td><td>&quot;Anual&quot;</td><td>&quot;A&quot;</td><td>[{215,&quot;30468&quot;,&quot;Estadística de Violencia Doméstica y Violencia de Género&quot;,&quot;VGD&quot;,[{171,&quot;Estadística de violencia doméstica y violencia de género&quot;,&quot;/dyngs/INEbase/es/operacion.htm?c=Estadistica_C&amp;cid=1254736176866&amp;idp=1254735573206&quot;}]}]</td><td>10605</td><td>&quot;Estadística de Violencia Domés…</td><td>1715936400000</td><td>28</td><td>1</td><td>12</td><td>&quot;Anual&quot;</td><td>&quot;A&quot;</td><td>&quot;1&quot;</td><td>&quot;1&quot;</td><td>&quot;01&quot;</td><td>&quot;A&quot;</td><td>&quot;Año&quot;</td><td>2023</td><td>28</td><td>1</td><td>12</td><td>&quot;Anual&quot;</td><td>&quot;A&quot;</td><td>&quot;1&quot;</td><td>&quot;1&quot;</td><td>&quot;01&quot;</td><td>&quot;A&quot;</td><td>&quot;Año&quot;</td><td>null</td><td>null</td><td>null</td><td>null</td><td>null</td><td>null</td><td>null</td><td>null</td><td>null</td><td>null</td><td>null</td></tr><tr><td>36835</td><td>&quot;Medias y percentiles por sexo …</td><td>&quot;NAC&quot;</td><td>&quot;2022&quot;</td><td>&quot;null&quot;</td><td>1727082000000</td><td>105</td><td>&quot;Cuatrienal&quot;</td><td>&quot;C&quot;</td><td>87</td><td>&quot;Encuesta de Estructura Salaria…</td><td>105</td><td>&quot;Cuatrienal&quot;</td><td>&quot;C&quot;</td><td>[{121,&quot;30133&quot;,&quot;Encuesta Cuatrienal de Estructura Salarial&quot;,&quot;EAES:Q&quot;,[{64,&quot;Encuestas de estructura salarial&quot;,&quot;/dyngs/INEbase/es/operacion.htm?c=Estadistica_C&amp;cid=1254736177025&amp;idp=1254735976596&quot;}]}]</td><td>11807</td><td>&quot;Encuesta de Estructura Salaria…</td><td>1727247600000</td><td>451</td><td>1</td><td>105</td><td>&quot;Cuatrienal&quot;</td><td>&quot;C&quot;</td><td>&quot;1&quot;</td><td>&quot;1&quot;</td><td>&quot;1&quot;</td><td>null</td><td>&quot;Año&quot;</td><td>2022</td><td>451</td><td>1</td><td>105</td><td>&quot;Cuatrienal&quot;</td><td>&quot;C&quot;</td><td>&quot;1&quot;</td><td>&quot;1&quot;</td><td>&quot;1&quot;</td><td>null</td><td>&quot;Año&quot;</td><td>null</td><td>null</td><td>null</td><td>null</td><td>null</td><td>null</td><td>null</td><td>null</td><td>null</td><td>null</td><td>null</td></tr><tr><td>25177</td><td>&quot;Gasto según sexo y edad del su…</td><td>&quot;ECOICOP_Censo2011_NAC&quot;</td><td>&quot;2006&quot;</td><td>&quot;null&quot;</td><td>1719478800000</td><td>12</td><td>&quot;Anual&quot;</td><td>&quot;A&quot;</td><td>381</td><td>&quot;Encuesta de Presupuestos Famil…</td><td>12</td><td>&quot;Anual&quot;</td><td>&quot;A&quot;</td><td>[{314,&quot;30458&quot;,&quot;Encuesta de Presupuestos Familiares (EPF)&quot;,&quot;EPF&quot;,[{163,&quot;Encuesta de presupuestos familiares. Base 2006&quot;,&quot;/dyngs/INEbase/es/operacion.htm?c=Estadistica_C&amp;cid=1254736176806&amp;idp=1254735976608&quot;}]}]</td><td>10604</td><td>&quot;Encuesta de Presupuestos Famil…</td><td>1719478800000</td><td>28</td><td>1</td><td>12</td><td>&quot;Anual&quot;</td><td>&quot;A&quot;</td><td>&quot;1&quot;</td><td>&quot;1&quot;</td><td>&quot;01&quot;</td><td>&quot;A&quot;</td><td>&quot;Año&quot;</td><td>2023</td><td>28</td><td>1</td><td>12</td><td>&quot;Anual&quot;</td><td>&quot;A&quot;</td><td>&quot;1&quot;</td><td>&quot;1&quot;</td><td>&quot;01&quot;</td><td>&quot;A&quot;</td><td>&quot;Año&quot;</td><td>null</td><td>null</td><td>null</td><td>null</td><td>null</td><td>null</td><td>null</td><td>null</td><td>null</td><td>null</td><td>null</td></tr><tr><td>65255</td><td>&quot;Inactivos por estado civil, se…</td><td>&quot;NAC&quot;</td><td>&quot;2002&quot;</td><td>&quot;null&quot;</td><td>1721977200000</td><td>3</td><td>&quot;Trimestral&quot;</td><td>&quot;Q&quot;</td><td>330</td><td>&quot;Encuesta de Población Activa&quot;</td><td>3</td><td>&quot;Trimestral&quot;</td><td>&quot;Q&quot;</td><td>[{293,&quot;30308&quot;,&quot;Encuesta de Población Activa (EPA)&quot;,&quot;EPA&quot;,[{138,&quot;Encuesta de población activa&quot;,&quot;/dyngs/INEbase/es/operacion.htm?c=Estadistica_C&amp;cid=1254736176918&amp;idp=1254735976595&quot;}]}]</td><td>10660</td><td>&quot;Encuesta de Población Activa T…</td><td>1721977200000</td><td>20</td><td>2</td><td>3</td><td>&quot;Trimestral&quot;</td><td>&quot;Q&quot;</td><td>&quot;1&quot;</td><td>&quot;4&quot;</td><td>&quot;II&quot;</td><td>&quot;T2&quot;</td><td>&quot;Trimestre 2/&quot;</td><td>2024</td><td>19</td><td>1</td><td>3</td><td>&quot;Trimestral&quot;</td><td>&quot;Q&quot;</td><td>&quot;1&quot;</td><td>&quot;1&quot;</td><td>&quot;I&quot;</td><td>&quot;T1&quot;</td><td>&quot;Trimestre 1/&quot;</td><td>null</td><td>null</td><td>null</td><td>null</td><td>null</td><td>null</td><td>null</td><td>null</td><td>null</td><td>null</td><td>null</td></tr><tr><td>70668</td><td>&quot;Porcentaje de trabajadores en …</td><td>&quot;NAC&quot;</td><td>&quot;2018&quot;</td><td>null</td><td>1340701200000</td><td>105</td><td>&quot;Cuatrienal&quot;</td><td>&quot;C&quot;</td><td>87</td><td>&quot;Encuesta de Estructura Salaria…</td><td>105</td><td>&quot;Cuatrienal&quot;</td><td>&quot;C&quot;</td><td>[{121,&quot;30133&quot;,&quot;Encuesta Cuatrienal de Estructura Salarial&quot;,&quot;EAES:Q&quot;,[{64,&quot;Encuestas de estructura salarial&quot;,&quot;/dyngs/INEbase/es/operacion.htm?c=Estadistica_C&amp;cid=1254736177025&amp;idp=1254735976596&quot;}]}]</td><td>11807</td><td>&quot;Encuesta de Estructura Salaria…</td><td>1727247600000</td><td>451</td><td>1</td><td>105</td><td>&quot;Cuatrienal&quot;</td><td>&quot;C&quot;</td><td>&quot;1&quot;</td><td>&quot;1&quot;</td><td>&quot;1&quot;</td><td>null</td><td>&quot;Año&quot;</td><td>2022</td><td>451</td><td>1</td><td>105</td><td>&quot;Cuatrienal&quot;</td><td>&quot;C&quot;</td><td>&quot;1&quot;</td><td>&quot;1&quot;</td><td>&quot;1&quot;</td><td>null</td><td>&quot;Año&quot;</td><td>&quot;2018&quot;</td><td>451</td><td>1</td><td>105</td><td>&quot;Cuatrienal&quot;</td><td>&quot;C&quot;</td><td>&quot;1&quot;</td><td>&quot;1&quot;</td><td>&quot;1&quot;</td><td>null</td><td>&quot;Año&quot;</td></tr></tbody></table></div>"
      ],
      "text/plain": [
       "shape: (5, 50)\n",
       "┌───────┬────────────┬────────────┬────────────┬───┬───────────┬───────────┬───────────┬───────────┐\n",
       "│ Id    ┆ Nombre     ┆ Codigo     ┆ Anyo_Perio ┆ … ┆ Periodo_f ┆ Periodo_f ┆ Periodo_f ┆ Periodo_f │\n",
       "│ ---   ┆ ---        ┆ ---        ┆ do_ini     ┆   ┆ in.Mes_in ┆ in.Codigo ┆ in.Nombre ┆ in.Nombre │\n",
       "│ i64   ┆ str        ┆ str        ┆ ---        ┆   ┆ icio      ┆ ---       ┆ ---       ┆ _largo    │\n",
       "│       ┆            ┆            ┆ str        ┆   ┆ ---       ┆ str       ┆ str       ┆ ---       │\n",
       "│       ┆            ┆            ┆            ┆   ┆ str       ┆           ┆           ┆ str       │\n",
       "╞═══════╪════════════╪════════════╪════════════╪═══╪═══════════╪═══════════╪═══════════╪═══════════╡\n",
       "│ 49126 ┆ Relaciones ┆ NAC        ┆ 2011       ┆ … ┆ null      ┆ null      ┆ null      ┆ null      │\n",
       "│       ┆ de las     ┆            ┆            ┆   ┆           ┆           ┆           ┆           │\n",
       "│       ┆ víctimas   ┆            ┆            ┆   ┆           ┆           ┆           ┆           │\n",
       "│       ┆ con…       ┆            ┆            ┆   ┆           ┆           ┆           ┆           │\n",
       "│ 36835 ┆ Medias y   ┆ NAC        ┆ 2022       ┆ … ┆ null      ┆ null      ┆ null      ┆ null      │\n",
       "│       ┆ percentile ┆            ┆            ┆   ┆           ┆           ┆           ┆           │\n",
       "│       ┆ s por sexo ┆            ┆            ┆   ┆           ┆           ┆           ┆           │\n",
       "│       ┆ …          ┆            ┆            ┆   ┆           ┆           ┆           ┆           │\n",
       "│ 25177 ┆ Gasto      ┆ ECOICOP_Ce ┆ 2006       ┆ … ┆ null      ┆ null      ┆ null      ┆ null      │\n",
       "│       ┆ según sexo ┆ nso2011_NA ┆            ┆   ┆           ┆           ┆           ┆           │\n",
       "│       ┆ y edad del ┆ C          ┆            ┆   ┆           ┆           ┆           ┆           │\n",
       "│       ┆ su…        ┆            ┆            ┆   ┆           ┆           ┆           ┆           │\n",
       "│ 65255 ┆ Inactivos  ┆ NAC        ┆ 2002       ┆ … ┆ null      ┆ null      ┆ null      ┆ null      │\n",
       "│       ┆ por estado ┆            ┆            ┆   ┆           ┆           ┆           ┆           │\n",
       "│       ┆ civil, se… ┆            ┆            ┆   ┆           ┆           ┆           ┆           │\n",
       "│ 70668 ┆ Porcentaje ┆ NAC        ┆ 2018       ┆ … ┆ 1         ┆ 1         ┆ null      ┆ Año       │\n",
       "│       ┆ de trabaja ┆            ┆            ┆   ┆           ┆           ┆           ┆           │\n",
       "│       ┆ dores en … ┆            ┆            ┆   ┆           ┆           ┆           ┆           │\n",
       "└───────┴────────────┴────────────┴────────────┴───┴───────────┴───────────┴───────────┴───────────┘"
      ]
     },
     "execution_count": 7,
     "metadata": {},
     "output_type": "execute_result"
    }
   ],
   "source": [
    "tablas = pl.json_normalize(t)\n",
    "print(tablas.shape)\n",
    "tablas.sample(5)"
   ]
  },
  {
   "cell_type": "code",
   "execution_count": 8,
   "metadata": {},
   "outputs": [],
   "source": [
    "def get_series_tabla_url(tabla_id):\n",
    "    return (\n",
    "        f\"https://servicios.ine.es/wstempus/jsCache/ES/SERIES_TABLA/{tabla_id}?det=10\"\n",
    "    )\n",
    "\n",
    "\n",
    "def get_tablas_download_url(tabla_id):\n",
    "    return f\"https://www.ine.es/jaxiT3/files/t/es/csv_bdsc/{tabla_id}.csv\"\n",
    "\n",
    "\n",
    "tablas = tablas.with_columns(\n",
    "    pl.col(\"Id\")\n",
    "    .map_elements(get_series_tabla_url, return_dtype=pl.String)\n",
    "    .alias(\"series_tabla_url\"),\n",
    "    pl.col(\"Id\")\n",
    "    .map_elements(get_tablas_download_url, return_dtype=pl.String)\n",
    "    .alias(\"tablas_download_url\"),\n",
    ")"
   ]
  },
  {
   "cell_type": "code",
   "execution_count": 9,
   "metadata": {},
   "outputs": [],
   "source": [
    "with open(\"series.input.spec\", \"w\") as f:\n",
    "    for t in tablas.rows(named=True):\n",
    "        f.write(f\"{t['series_tabla_url']}\\n\")\n",
    "        f.write(f\"\\tout={t['Id']}.json\\n\")\n",
    "        f.write(f\"\\tdir=dataset/tablas/{t['Id']}\\n\\n\")\n",
    "\n",
    "with open(\"tablas.input.spec\", \"w\") as f:\n",
    "    for t in tablas.rows(named=True):\n",
    "        f.write(f\"{t['tablas_download_url']}\\n\")\n",
    "        f.write(f\"\\tout={t['Id']}.csv\\n\")\n",
    "        f.write(f\"\\tdir=dataset/tablas/{t['Id']}\\n\\n\")"
   ]
  },
  {
   "cell_type": "code",
   "execution_count": 10,
   "metadata": {},
   "outputs": [],
   "source": [
    "import subprocess\n",
    "\n",
    "subprocess.run(\n",
    "    [\n",
    "        \"aria2c\",\n",
    "        \"-i\",\n",
    "        \"series.input.spec\",\n",
    "        \"-j\",\n",
    "        \"20\",\n",
    "        \"-x\",\n",
    "        \"16\",\n",
    "        \"-s\",\n",
    "        \"8\",\n",
    "        \"-c\",\n",
    "        \"--file-allocation=none\",\n",
    "        \"--console-log-level=warn\",\n",
    "    ]\n",
    ")"
   ]
  },
  {
   "cell_type": "code",
   "execution_count": null,
   "metadata": {},
   "outputs": [],
   "source": [
    "subprocess.run(\n",
    "    [\n",
    "        \"aria2c\",\n",
    "        \"-i\",\n",
    "        \"tablas.input.spec\",\n",
    "        \"-j\",\n",
    "        \"50\",\n",
    "        \"-x\",\n",
    "        \"16\",\n",
    "        \"-s\",\n",
    "        \"8\",\n",
    "        \"-c\",\n",
    "        \"--file-allocation=none\",\n",
    "        \"--console-log-level=warn\",\n",
    "    ]\n",
    ")"
   ]
  },
  {
   "cell_type": "code",
   "execution_count": null,
   "metadata": {},
   "outputs": [],
   "source": [
    "import glob\n",
    "\n",
    "from tqdm import tqdm\n",
    "\n",
    "csv_files = glob.glob(\"dataset/tablas/*/*.csv\")\n",
    "\n",
    "for file in tqdm(csv_files):\n",
    "    filename = file.split(\".\")[-2].split(\"/\")[-1]\n",
    "\n",
    "    (\n",
    "        pl.scan_csv(\n",
    "            file,\n",
    "            separator=\";\",\n",
    "            ignore_errors=True,\n",
    "            truncate_ragged_lines=True,\n",
    "        ).sink_parquet(\n",
    "            f\"dataset/tablas/{filename}/{filename}.parquet\",\n",
    "            compression=\"zstd\",\n",
    "            row_group_size=1024**2,\n",
    "            type_coercion=True,\n",
    "        )\n",
    "    )"
   ]
  },
  {
   "cell_type": "code",
   "execution_count": 36,
   "metadata": {},
   "outputs": [],
   "source": [
    "import os\n",
    "\n",
    "for file in csv_files:\n",
    "    os.remove(file)"
   ]
  },
  {
   "cell_type": "code",
   "execution_count": 39,
   "metadata": {},
   "outputs": [],
   "source": [
    "from huggingface_hub import HfApi"
   ]
  },
  {
   "cell_type": "code",
   "execution_count": 40,
   "metadata": {},
   "outputs": [],
   "source": [
    "api = HfApi(token=os.getenv(\"HUGGINGFACE_TOKEN\"))"
   ]
  },
  {
   "cell_type": "code",
   "execution_count": 42,
   "metadata": {},
   "outputs": [],
   "source": [
    "api.upload_large_folder(\n",
    "    folder_path=\"dataset\", repo_id=\"davidgasquez/ine\", repo_type=\"dataset\"\n",
    ")"
   ]
  }
 ],
 "metadata": {
  "kernelspec": {
   "display_name": ".venv",
   "language": "python",
   "name": "python3"
  },
  "language_info": {
   "codemirror_mode": {
    "name": "ipython",
    "version": 3
   },
   "file_extension": ".py",
   "mimetype": "text/x-python",
   "name": "python",
   "nbconvert_exporter": "python",
   "pygments_lexer": "ipython3",
   "version": "3.12.6"
  }
 },
 "nbformat": 4,
 "nbformat_minor": 2
}
