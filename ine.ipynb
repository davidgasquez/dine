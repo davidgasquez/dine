{
 "cells": [
  {
   "cell_type": "code",
   "execution_count": 60,
   "metadata": {},
   "outputs": [],
   "source": [
    "import httpx\n",
    "import polars as pl"
   ]
  },
  {
   "cell_type": "code",
   "execution_count": 61,
   "metadata": {},
   "outputs": [],
   "source": [
    "INE_BASE_URL = \"https://servicios.ine.es/wstempus/js/ES\"\n",
    "\n",
    "client = httpx.Client(\n",
    "    base_url=INE_BASE_URL,\n",
    "    limits=httpx.Limits(max_keepalive_connections=20),\n",
    "    transport=httpx.HTTPTransport(retries=3),\n",
    ")"
   ]
  },
  {
   "cell_type": "code",
   "execution_count": 62,
   "metadata": {},
   "outputs": [],
   "source": [
    "def ine_request(client: httpx.Client, endpoint, paginate=True):\n",
    "    page = 1\n",
    "    data = []\n",
    "\n",
    "    while True:\n",
    "        params = {\"det\": 10}\n",
    "\n",
    "        if paginate:\n",
    "            params[\"page\"] = page\n",
    "\n",
    "        response = client.get(\n",
    "            f\"/{endpoint}\", params=params, follow_redirects=True\n",
    "        ).json()\n",
    "\n",
    "        if not response:\n",
    "            break\n",
    "\n",
    "        data.extend(response)\n",
    "\n",
    "        if len(response) < 500 or not paginate:\n",
    "            break\n",
    "\n",
    "        page += 1\n",
    "\n",
    "    return data"
   ]
  },
  {
   "cell_type": "code",
   "execution_count": 63,
   "metadata": {},
   "outputs": [
    {
     "name": "stdout",
     "output_type": "stream",
     "text": [
      "(108, 6)\n"
     ]
    },
    {
     "data": {
      "text/html": [
       "<div><style>\n",
       ".dataframe > thead > tr,\n",
       ".dataframe > tbody > tr {\n",
       "  text-align: right;\n",
       "  white-space: pre-wrap;\n",
       "}\n",
       "</style>\n",
       "<small>shape: (5, 6)</small><table border=\"1\" class=\"dataframe\"><thead><tr><th>Id</th><th>Cod_IOE</th><th>Nombre</th><th>Codigo</th><th>Referencia</th><th>Url</th></tr><tr><td>i64</td><td>str</td><td>str</td><td>str</td><td>list[struct[3]]</td><td>str</td></tr></thead><tbody><tr><td>27</td><td>&quot;30051&quot;</td><td>&quot;Índices de Precios Industriale…</td><td>&quot;IPRI&quot;</td><td>[{22,&quot;Índices de precios industriales&quot;,&quot;/dyngs/INEbase/es/operacion.htm?c=Estadistica_C&amp;cid=1254736147699&amp;idp=1254735576715&quot;}]</td><td>null</td></tr><tr><td>30</td><td>&quot;&quot;</td><td>&quot;Encuesta de coyuntura de comer…</td><td>&quot;CCM&quot;</td><td>null</td><td>null</td></tr><tr><td>49</td><td>&quot;&quot;</td><td>&quot;Distribución de Apellidos&quot;</td><td>&quot;APEL&quot;</td><td>null</td><td>&quot;https://www.ine.es/dyngs/INEba…</td></tr><tr><td>465</td><td>&quot;30240&quot;</td><td>&quot;Comercio Internacional de Serv…</td><td>&quot;STEC&quot;</td><td>null</td><td>null</td></tr><tr><td>104</td><td>&quot;30062&quot;</td><td>&quot;Índices de Precios de Material…</td><td>&quot;IMM&quot;</td><td>[{30,&quot;Índices de precios de materiales e índices nacionales de la mano de obra&quot;,&quot;/dyngs/INEbase/es/operacion.htm?c=Estadistica_C&amp;cid=1254736154972&amp;idp=1254735576757&quot;}]</td><td>null</td></tr></tbody></table></div>"
      ],
      "text/plain": [
       "shape: (5, 6)\n",
       "┌─────┬─────────┬───────────────────────────┬────────┬──────────────────┬──────────────────────────┐\n",
       "│ Id  ┆ Cod_IOE ┆ Nombre                    ┆ Codigo ┆ Referencia       ┆ Url                      │\n",
       "│ --- ┆ ---     ┆ ---                       ┆ ---    ┆ ---              ┆ ---                      │\n",
       "│ i64 ┆ str     ┆ str                       ┆ str    ┆ list[struct[3]]  ┆ str                      │\n",
       "╞═════╪═════════╪═══════════════════════════╪════════╪══════════════════╪══════════════════════════╡\n",
       "│ 27  ┆ 30051   ┆ Índices de Precios        ┆ IPRI   ┆ [{22,\"Índices de ┆ null                     │\n",
       "│     ┆         ┆ Industriale…              ┆        ┆ precios indus…   ┆                          │\n",
       "│ 30  ┆         ┆ Encuesta de coyuntura de  ┆ CCM    ┆ null             ┆ null                     │\n",
       "│     ┆         ┆ comer…                    ┆        ┆                  ┆                          │\n",
       "│ 49  ┆         ┆ Distribución de Apellidos ┆ APEL   ┆ null             ┆ https://www.ine.es/dyngs │\n",
       "│     ┆         ┆                           ┆        ┆                  ┆ /INEba…                  │\n",
       "│ 465 ┆ 30240   ┆ Comercio Internacional de ┆ STEC   ┆ null             ┆ null                     │\n",
       "│     ┆         ┆ Serv…                     ┆        ┆                  ┆                          │\n",
       "│ 104 ┆ 30062   ┆ Índices de Precios de     ┆ IMM    ┆ [{30,\"Índices de ┆ null                     │\n",
       "│     ┆         ┆ Material…                 ┆        ┆ precios de ma…   ┆                          │\n",
       "└─────┴─────────┴───────────────────────────┴────────┴──────────────────┴──────────────────────────┘"
      ]
     },
     "execution_count": 63,
     "metadata": {},
     "output_type": "execute_result"
    }
   ],
   "source": [
    "# https://servicios.ine.es/wstempus/js/ES/OPERACIONES_DISPONIBLES\n",
    "\n",
    "operaciones_disponibles = pl.DataFrame(ine_request(client, \"OPERACIONES_DISPONIBLES\"))\n",
    "print(operaciones_disponibles.shape)\n",
    "operaciones_disponibles.sample(5)"
   ]
  },
  {
   "cell_type": "code",
   "execution_count": 64,
   "metadata": {},
   "outputs": [
    {
     "data": {
      "text/html": [
       "<div><style>\n",
       ".dataframe > thead > tr,\n",
       ".dataframe > tbody > tr {\n",
       "  text-align: right;\n",
       "  white-space: pre-wrap;\n",
       "}\n",
       "</style>\n",
       "<small>shape: (5, 3)</small><table border=\"1\" class=\"dataframe\"><thead><tr><th>Id</th><th>Nombre</th><th>Codigo</th></tr><tr><td>i64</td><td>str</td><td>str</td></tr></thead><tbody><tr><td>178</td><td>&quot;Sectores económicos del empleo…</td><td>&quot;&quot;</td></tr><tr><td>600</td><td>&quot;Conurbación&quot;</td><td>&quot;KERNEL&quot;</td></tr><tr><td>771</td><td>&quot;Relacion entre lugar de nacimi…</td><td>&quot;&quot;</td></tr><tr><td>807</td><td>&quot;Códigos de gasto con cantidad …</td><td>&quot;&quot;</td></tr><tr><td>170</td><td>&quot;Motivo de no buscar empleo&quot;</td><td>&quot;&quot;</td></tr></tbody></table></div>"
      ],
      "text/plain": [
       "shape: (5, 3)\n",
       "┌─────┬─────────────────────────────────┬────────┐\n",
       "│ Id  ┆ Nombre                          ┆ Codigo │\n",
       "│ --- ┆ ---                             ┆ ---    │\n",
       "│ i64 ┆ str                             ┆ str    │\n",
       "╞═════╪═════════════════════════════════╪════════╡\n",
       "│ 178 ┆ Sectores económicos del empleo… ┆        │\n",
       "│ 600 ┆ Conurbación                     ┆ KERNEL │\n",
       "│ 771 ┆ Relacion entre lugar de nacimi… ┆        │\n",
       "│ 807 ┆ Códigos de gasto con cantidad … ┆        │\n",
       "│ 170 ┆ Motivo de no buscar empleo      ┆        │\n",
       "└─────┴─────────────────────────────────┴────────┘"
      ]
     },
     "execution_count": 64,
     "metadata": {},
     "output_type": "execute_result"
    }
   ],
   "source": [
    "# https://servicios.ine.es/wstempus/js/ES/VARIABLES?det=10\n",
    "\n",
    "variables = pl.DataFrame(ine_request(client, \"VARIABLES\"))\n",
    "variables.sample(5)"
   ]
  },
  {
   "cell_type": "code",
   "execution_count": 65,
   "metadata": {},
   "outputs": [],
   "source": [
    "t = []\n",
    "\n",
    "for row in operaciones_disponibles.rows(named=True):\n",
    "    tablas_operacion_url = f\"TABLAS_OPERACION/{row[\"Id\"]}\"\n",
    "    tablas_operacion = ine_request(client, tablas_operacion_url)\n",
    "\n",
    "    t.extend(tablas_operacion)"
   ]
  },
  {
   "cell_type": "code",
   "execution_count": 67,
   "metadata": {},
   "outputs": [
    {
     "name": "stdout",
     "output_type": "stream",
     "text": [
      "(4934, 50)\n"
     ]
    },
    {
     "data": {
      "text/html": [
       "<div><style>\n",
       ".dataframe > thead > tr,\n",
       ".dataframe > tbody > tr {\n",
       "  text-align: right;\n",
       "  white-space: pre-wrap;\n",
       "}\n",
       "</style>\n",
       "<small>shape: (5, 50)</small><table border=\"1\" class=\"dataframe\"><thead><tr><th>Id</th><th>Nombre</th><th>Codigo</th><th>Anyo_Periodo_ini</th><th>FechaRef_fin</th><th>Ultima_Modificacion</th><th>Periodicidad.Id</th><th>Periodicidad.Nombre</th><th>Periodicidad.Codigo</th><th>Publicacion.Id</th><th>Publicacion.Nombre</th><th>Publicacion.Periodicidad.Id</th><th>Publicacion.Periodicidad.Nombre</th><th>Publicacion.Periodicidad.Codigo</th><th>Publicacion.Operacion</th><th>Publicacion.PubFechaAct.Id</th><th>Publicacion.PubFechaAct.Nombre</th><th>Publicacion.PubFechaAct.Fecha</th><th>Publicacion.PubFechaAct.Periodo.Id</th><th>Publicacion.PubFechaAct.Periodo.Valor</th><th>Publicacion.PubFechaAct.Periodo.Periodicidad.Id</th><th>Publicacion.PubFechaAct.Periodo.Periodicidad.Nombre</th><th>Publicacion.PubFechaAct.Periodo.Periodicidad.Codigo</th><th>Publicacion.PubFechaAct.Periodo.Dia_inicio</th><th>Publicacion.PubFechaAct.Periodo.Mes_inicio</th><th>Publicacion.PubFechaAct.Periodo.Codigo</th><th>Publicacion.PubFechaAct.Periodo.Nombre</th><th>Publicacion.PubFechaAct.Periodo.Nombre_largo</th><th>Publicacion.PubFechaAct.Anyo</th><th>Periodo_ini.Id</th><th>Periodo_ini.Valor</th><th>Periodo_ini.Periodicidad.Id</th><th>Periodo_ini.Periodicidad.Nombre</th><th>Periodo_ini.Periodicidad.Codigo</th><th>Periodo_ini.Dia_inicio</th><th>Periodo_ini.Mes_inicio</th><th>Periodo_ini.Codigo</th><th>Periodo_ini.Nombre</th><th>Periodo_ini.Nombre_largo</th><th>Anyo_Periodo_fin</th><th>Periodo_fin.Id</th><th>Periodo_fin.Valor</th><th>Periodo_fin.Periodicidad.Id</th><th>Periodo_fin.Periodicidad.Nombre</th><th>Periodo_fin.Periodicidad.Codigo</th><th>Periodo_fin.Dia_inicio</th><th>Periodo_fin.Mes_inicio</th><th>Periodo_fin.Codigo</th><th>Periodo_fin.Nombre</th><th>Periodo_fin.Nombre_largo</th></tr><tr><td>i64</td><td>str</td><td>str</td><td>str</td><td>str</td><td>i64</td><td>i64</td><td>str</td><td>str</td><td>i64</td><td>str</td><td>i64</td><td>str</td><td>str</td><td>list[struct[5]]</td><td>i64</td><td>str</td><td>i64</td><td>i64</td><td>i64</td><td>i64</td><td>str</td><td>str</td><td>str</td><td>str</td><td>str</td><td>str</td><td>str</td><td>i64</td><td>i64</td><td>i64</td><td>i64</td><td>str</td><td>str</td><td>str</td><td>str</td><td>str</td><td>str</td><td>str</td><td>str</td><td>i64</td><td>i64</td><td>i64</td><td>str</td><td>str</td><td>str</td><td>str</td><td>str</td><td>str</td><td>str</td></tr></thead><tbody><tr><td>2861</td><td>&quot;Barcelona: Población por munic…</td><td>&quot;PROV-MUN&quot;</td><td>&quot;1996&quot;</td><td>&quot;null&quot;</td><td>1703584800000</td><td>12</td><td>&quot;Anual&quot;</td><td>&quot;A&quot;</td><td>29</td><td>&quot;Cifras oficiales de población …</td><td>12</td><td>&quot;Anual&quot;</td><td>&quot;A&quot;</td><td>[{22,&quot;30245&quot;,&quot;Cifras Oficiales de Población de los Municipios Españoles: Revisión del Padrón Municipal&quot;,&quot;DPOP&quot;,[{119,&quot;Cifras oficiales de población de los municipios españoles: Revisión del Padrón Municipal&quot;,&quot;/dyngs/INEbase/es/operacion.htm?c=Estadistica_C&amp;cid=1254736177011&amp;idp=1254734710990&quot;}]}]</td><td>10681</td><td>&quot;Cifras oficiales de población …</td><td>1703584800000</td><td>28</td><td>1</td><td>12</td><td>&quot;Anual&quot;</td><td>&quot;A&quot;</td><td>&quot;1&quot;</td><td>&quot;1&quot;</td><td>&quot;01&quot;</td><td>&quot;A&quot;</td><td>&quot;Año&quot;</td><td>2023</td><td>28</td><td>1</td><td>12</td><td>&quot;Anual&quot;</td><td>&quot;A&quot;</td><td>&quot;1&quot;</td><td>&quot;1&quot;</td><td>&quot;01&quot;</td><td>&quot;A&quot;</td><td>&quot;Año&quot;</td><td>null</td><td>null</td><td>null</td><td>null</td><td>null</td><td>null</td><td>null</td><td>null</td><td>null</td><td>null</td><td>null</td></tr><tr><td>2255</td><td>&quot;Índices nacionales: general y …</td><td>&quot;2005_NAC_PCTES&quot;</td><td>&quot;2003&quot;</td><td>null</td><td>1388390400000</td><td>1</td><td>&quot;Mensual&quot;</td><td>&quot;M&quot;</td><td>5</td><td>&quot;Índices de Comercio al por men…</td><td>1</td><td>&quot;Mensual&quot;</td><td>&quot;M&quot;</td><td>[{32,&quot;30103&quot;,&quot;Índices de Comercio al por Menor&quot;,&quot;ICM&quot;,[{60,&quot;Índices de comercio al por menor&quot;,&quot;/dyngs/INEbase/es/operacion.htm?c=Estadistica_C&amp;cid=1254736176900&amp;idp=1254735576799&quot;}]}]</td><td>10511</td><td>&quot;Índices de Comercio al por men…</td><td>1727334000000</td><td>8</td><td>8</td><td>1</td><td>&quot;Mensual&quot;</td><td>&quot;M&quot;</td><td>&quot;1&quot;</td><td>&quot;8&quot;</td><td>&quot;08&quot;</td><td>&quot;Agosto&quot;</td><td>&quot;Agosto&quot;</td><td>2024</td><td>1</td><td>1</td><td>1</td><td>&quot;Mensual&quot;</td><td>&quot;M&quot;</td><td>&quot;1&quot;</td><td>&quot;1&quot;</td><td>&quot;01&quot;</td><td>&quot;Enero&quot;</td><td>&quot;Enero&quot;</td><td>&quot;2008&quot;</td><td>12</td><td>12</td><td>1</td><td>&quot;Mensual&quot;</td><td>&quot;M&quot;</td><td>&quot;1&quot;</td><td>&quot;12&quot;</td><td>&quot;12&quot;</td><td>&quot;Diciembre&quot;</td><td>&quot;Diciembre&quot;</td></tr><tr><td>66068</td><td>&quot;Ocupados por situación profesi…</td><td>&quot;NAC&quot;</td><td>&quot;2006&quot;</td><td>null</td><td>1406624400000</td><td>12</td><td>&quot;Anual&quot;</td><td>&quot;A&quot;</td><td>341</td><td>&quot;Encuesta de Población Activa. …</td><td>12</td><td>&quot;Anual&quot;</td><td>&quot;A&quot;</td><td>[{293,&quot;30308&quot;,&quot;Encuesta de Población Activa (EPA)&quot;,&quot;EPA&quot;,[{138,&quot;Encuesta de población activa&quot;,&quot;/dyngs/INEbase/es/operacion.htm?c=Estadistica_C&amp;cid=1254736176918&amp;idp=1254735976595&quot;}]}]</td><td>10872</td><td>&quot;Encuesta de Población Activa. …</td><td>1718965380000</td><td>28</td><td>1</td><td>12</td><td>&quot;Anual&quot;</td><td>&quot;A&quot;</td><td>&quot;1&quot;</td><td>&quot;1&quot;</td><td>&quot;01&quot;</td><td>&quot;A&quot;</td><td>&quot;Año&quot;</td><td>2023</td><td>28</td><td>1</td><td>12</td><td>&quot;Anual&quot;</td><td>&quot;A&quot;</td><td>&quot;1&quot;</td><td>&quot;1&quot;</td><td>&quot;01&quot;</td><td>&quot;A&quot;</td><td>&quot;Año&quot;</td><td>&quot;2010&quot;</td><td>28</td><td>1</td><td>12</td><td>&quot;Anual&quot;</td><td>&quot;A&quot;</td><td>&quot;1&quot;</td><td>&quot;1&quot;</td><td>&quot;01&quot;</td><td>&quot;A&quot;</td><td>&quot;Año&quot;</td></tr><tr><td>28401</td><td>&quot;Personas condenadas en asuntos…</td><td>&quot;NAC-CCAA&quot;</td><td>&quot;2015&quot;</td><td>&quot;null&quot;</td><td>1715936400000</td><td>12</td><td>&quot;Anual&quot;</td><td>&quot;A&quot;</td><td>312</td><td>&quot;Estadística de Violencia Domés…</td><td>12</td><td>&quot;Anual&quot;</td><td>&quot;A&quot;</td><td>[{215,&quot;30468&quot;,&quot;Estadística de Violencia Doméstica y Violencia de Género&quot;,&quot;VGD&quot;,[{171,&quot;Estadística de violencia doméstica y violencia de género&quot;,&quot;/dyngs/INEbase/es/operacion.htm?c=Estadistica_C&amp;cid=1254736176866&amp;idp=1254735573206&quot;}]}]</td><td>10605</td><td>&quot;Estadística de Violencia Domés…</td><td>1715936400000</td><td>28</td><td>1</td><td>12</td><td>&quot;Anual&quot;</td><td>&quot;A&quot;</td><td>&quot;1&quot;</td><td>&quot;1&quot;</td><td>&quot;01&quot;</td><td>&quot;A&quot;</td><td>&quot;Año&quot;</td><td>2023</td><td>28</td><td>1</td><td>12</td><td>&quot;Anual&quot;</td><td>&quot;A&quot;</td><td>&quot;1&quot;</td><td>&quot;1&quot;</td><td>&quot;01&quot;</td><td>&quot;A&quot;</td><td>&quot;Año&quot;</td><td>null</td><td>null</td><td>null</td><td>null</td><td>null</td><td>null</td><td>null</td><td>null</td><td>null</td><td>null</td><td>null</td></tr><tr><td>25222</td><td>&quot;Coeficiente de variación por s…</td><td>&quot;ECOICOP_Censo2011_NAC_CV&quot;</td><td>&quot;2006&quot;</td><td>&quot;null&quot;</td><td>1719478800000</td><td>12</td><td>&quot;Anual&quot;</td><td>&quot;A&quot;</td><td>381</td><td>&quot;Encuesta de Presupuestos Famil…</td><td>12</td><td>&quot;Anual&quot;</td><td>&quot;A&quot;</td><td>[{314,&quot;30458&quot;,&quot;Encuesta de Presupuestos Familiares (EPF)&quot;,&quot;EPF&quot;,[{163,&quot;Encuesta de presupuestos familiares. Base 2006&quot;,&quot;/dyngs/INEbase/es/operacion.htm?c=Estadistica_C&amp;cid=1254736176806&amp;idp=1254735976608&quot;}]}]</td><td>10604</td><td>&quot;Encuesta de Presupuestos Famil…</td><td>1719478800000</td><td>28</td><td>1</td><td>12</td><td>&quot;Anual&quot;</td><td>&quot;A&quot;</td><td>&quot;1&quot;</td><td>&quot;1&quot;</td><td>&quot;01&quot;</td><td>&quot;A&quot;</td><td>&quot;Año&quot;</td><td>2023</td><td>28</td><td>1</td><td>12</td><td>&quot;Anual&quot;</td><td>&quot;A&quot;</td><td>&quot;1&quot;</td><td>&quot;1&quot;</td><td>&quot;01&quot;</td><td>&quot;A&quot;</td><td>&quot;Año&quot;</td><td>null</td><td>null</td><td>null</td><td>null</td><td>null</td><td>null</td><td>null</td><td>null</td><td>null</td><td>null</td><td>null</td></tr></tbody></table></div>"
      ],
      "text/plain": [
       "shape: (5, 50)\n",
       "┌───────┬────────────┬────────────┬────────────┬───┬───────────┬───────────┬───────────┬───────────┐\n",
       "│ Id    ┆ Nombre     ┆ Codigo     ┆ Anyo_Perio ┆ … ┆ Periodo_f ┆ Periodo_f ┆ Periodo_f ┆ Periodo_f │\n",
       "│ ---   ┆ ---        ┆ ---        ┆ do_ini     ┆   ┆ in.Mes_in ┆ in.Codigo ┆ in.Nombre ┆ in.Nombre │\n",
       "│ i64   ┆ str        ┆ str        ┆ ---        ┆   ┆ icio      ┆ ---       ┆ ---       ┆ _largo    │\n",
       "│       ┆            ┆            ┆ str        ┆   ┆ ---       ┆ str       ┆ str       ┆ ---       │\n",
       "│       ┆            ┆            ┆            ┆   ┆ str       ┆           ┆           ┆ str       │\n",
       "╞═══════╪════════════╪════════════╪════════════╪═══╪═══════════╪═══════════╪═══════════╪═══════════╡\n",
       "│ 2861  ┆ Barcelona: ┆ PROV-MUN   ┆ 1996       ┆ … ┆ null      ┆ null      ┆ null      ┆ null      │\n",
       "│       ┆ Población  ┆            ┆            ┆   ┆           ┆           ┆           ┆           │\n",
       "│       ┆ por munic… ┆            ┆            ┆   ┆           ┆           ┆           ┆           │\n",
       "│ 2255  ┆ Índices    ┆ 2005_NAC_P ┆ 2003       ┆ … ┆ 12        ┆ 12        ┆ Diciembre ┆ Diciembre │\n",
       "│       ┆ nacionales ┆ CTES       ┆            ┆   ┆           ┆           ┆           ┆           │\n",
       "│       ┆ : general  ┆            ┆            ┆   ┆           ┆           ┆           ┆           │\n",
       "│       ┆ y …        ┆            ┆            ┆   ┆           ┆           ┆           ┆           │\n",
       "│ 66068 ┆ Ocupados   ┆ NAC        ┆ 2006       ┆ … ┆ 1         ┆ 01        ┆ A         ┆ Año       │\n",
       "│       ┆ por        ┆            ┆            ┆   ┆           ┆           ┆           ┆           │\n",
       "│       ┆ situación  ┆            ┆            ┆   ┆           ┆           ┆           ┆           │\n",
       "│       ┆ profesi…   ┆            ┆            ┆   ┆           ┆           ┆           ┆           │\n",
       "│ 28401 ┆ Personas   ┆ NAC-CCAA   ┆ 2015       ┆ … ┆ null      ┆ null      ┆ null      ┆ null      │\n",
       "│       ┆ condenadas ┆            ┆            ┆   ┆           ┆           ┆           ┆           │\n",
       "│       ┆ en         ┆            ┆            ┆   ┆           ┆           ┆           ┆           │\n",
       "│       ┆ asuntos…   ┆            ┆            ┆   ┆           ┆           ┆           ┆           │\n",
       "│ 25222 ┆ Coeficient ┆ ECOICOP_Ce ┆ 2006       ┆ … ┆ null      ┆ null      ┆ null      ┆ null      │\n",
       "│       ┆ e de       ┆ nso2011_NA ┆            ┆   ┆           ┆           ┆           ┆           │\n",
       "│       ┆ variación  ┆ C_CV       ┆            ┆   ┆           ┆           ┆           ┆           │\n",
       "│       ┆ por s…     ┆            ┆            ┆   ┆           ┆           ┆           ┆           │\n",
       "└───────┴────────────┴────────────┴────────────┴───┴───────────┴───────────┴───────────┴───────────┘"
      ]
     },
     "execution_count": 67,
     "metadata": {},
     "output_type": "execute_result"
    }
   ],
   "source": [
    "import os\n",
    "\n",
    "os.makedirs(\"dataset\", exist_ok=True)\n",
    "\n",
    "tablas = pl.json_normalize(t)\n",
    "print(tablas.shape)\n",
    "tablas.write_parquet(\"dataset/tablas.parquet\", compression=\"zstd\")\n",
    "tablas.sample(5)"
   ]
  },
  {
   "cell_type": "code",
   "execution_count": 68,
   "metadata": {},
   "outputs": [],
   "source": [
    "def generate_readme_content(data):\n",
    "    return f\"\"\"# {data['Nombre']}\n",
    "\n",
    "- **ID:** {data['Id']}\n",
    "- **Código:** {data['Codigo']}\n",
    "- **Año de Inicio del Periodo:** {data['Anyo_Periodo_ini']}\n",
    "- **Fecha de Referencia Final:** {data['FechaRef_fin']}\n",
    "- **Última Modificación:** {data['Ultima_Modificacion']}\n",
    "- **Periodicidad:** {data['Periodicidad.Nombre']} ({data['Periodicidad.Codigo']})\n",
    "\n",
    "## Publicación\n",
    "\n",
    "- **ID:** {data['Publicacion.Id']}\n",
    "- **Nombre:** {data['Publicacion.Nombre']}\n",
    "- **Periodicidad:** {data['Publicacion.Periodicidad.Nombre']} ({data['Publicacion.Periodicidad.Codigo']})\n",
    "\n",
    "### Operación\n",
    "\n",
    "- **ID:** {data['Publicacion.Operacion'][0]['Id']}\n",
    "- **Código IOE:** {data['Publicacion.Operacion'][0]['Cod_IOE']}\n",
    "- **Nombre:** {data['Publicacion.Operacion'][0]['Nombre']}\n",
    "- **Referencia:** {data['Publicacion.Operacion'][0]['Referencia']}\n",
    "\n",
    "### Última Publicación\n",
    "\n",
    "- **ID:** {data['Publicacion.PubFechaAct.Id']}\n",
    "- **Nombre:** {data['Publicacion.PubFechaAct.Nombre']}\n",
    "- **Fecha:** {data['Publicacion.PubFechaAct.Fecha']}\n",
    "- **Periodo ID:** {data['Publicacion.PubFechaAct.Periodo.Id']}\n",
    "- **Periodo Valor:** {data['Publicacion.PubFechaAct.Periodo.Valor']}\n",
    "- **Periodo Periodicidad:** {data['Publicacion.PubFechaAct.Periodo.Periodicidad.Nombre']} ({data['Publicacion.PubFechaAct.Periodo.Periodicidad.Codigo']})\n",
    "- **Periodo Día de Inicio:** {data['Publicacion.PubFechaAct.Periodo.Dia_inicio']}\n",
    "- **Periodo Mes de Inicio:** {data['Publicacion.PubFechaAct.Periodo.Mes_inicio']}\n",
    "- **Periodo Código:** {data['Publicacion.PubFechaAct.Periodo.Codigo']}\n",
    "- **Periodo Nombre:** {data['Publicacion.PubFechaAct.Periodo.Nombre']}\n",
    "- **Periodo Nombre Largo:** {data['Publicacion.PubFechaAct.Periodo.Nombre_largo']}\n",
    "- **Año:** {data['Publicacion.PubFechaAct.Anyo']}\n",
    "\n",
    "## Periodo Inicial\n",
    "\n",
    "- **ID:** {data['Periodo_ini.Id']}\n",
    "- **Valor:** {data['Periodo_ini.Valor']}\n",
    "- **Periodicidad:** {data['Periodo_ini.Periodicidad.Nombre']} ({data['Periodo_ini.Periodicidad.Codigo']})\n",
    "- **Día de Inicio:** {data['Periodo_ini.Dia_inicio']}\n",
    "- **Mes de Inicio:** {data['Periodo_ini.Mes_inicio']}\n",
    "- **Código:** {data['Periodo_ini.Codigo']}\n",
    "- **Nombre:** {data['Periodo_ini.Nombre']}\n",
    "- **Nombre Largo:** {data['Periodo_ini.Nombre_largo']}\n",
    "\n",
    "## Periodo Final\n",
    "\n",
    "- **Año de Fin del Periodo:** {data['Anyo_Periodo_fin']}\n",
    "- **ID:** {data['Periodo_fin.Id']}\n",
    "- **Valor:** {data['Periodo_fin.Valor']}\n",
    "- **Periodicidad:** {data['Periodo_fin.Periodicidad.Nombre']} ({data['Periodo_fin.Periodicidad.Codigo']})\n",
    "- **Día de Inicio:** {data['Periodo_fin.Dia_inicio']}\n",
    "- **Mes de Inicio:** {data['Periodo_fin.Mes_inicio']}\n",
    "- **Código:** {data['Periodo_fin.Codigo']}\n",
    "- **Nombre:** {data['Periodo_fin.Nombre']}\n",
    "- **Nombre Largo:** {data['Periodo_fin.Nombre_largo']}\n",
    "\n",
    "## JSON\n",
    "\n",
    "```json\n",
    "{data}\n",
    "```\n",
    "\"\"\""
   ]
  },
  {
   "cell_type": "code",
   "execution_count": 69,
   "metadata": {},
   "outputs": [],
   "source": [
    "def get_series_tabla_url(tabla_id):\n",
    "    return (\n",
    "        f\"https://servicios.ine.es/wstempus/jsCache/ES/SERIES_TABLA/{tabla_id}?det=10\"\n",
    "    )\n",
    "\n",
    "\n",
    "def get_tablas_download_url(tabla_id):\n",
    "    return f\"https://www.ine.es/jaxiT3/files/t/es/csv_bdsc/{tabla_id}.csv\"\n",
    "\n",
    "\n",
    "tablas = tablas.with_columns(\n",
    "    pl.col(\"Id\")\n",
    "    .map_elements(get_series_tabla_url, return_dtype=pl.String)\n",
    "    .alias(\"series_tabla_url\"),\n",
    "    pl.col(\"Id\")\n",
    "    .map_elements(get_tablas_download_url, return_dtype=pl.String)\n",
    "    .alias(\"tablas_download_url\"),\n",
    ")"
   ]
  },
  {
   "cell_type": "code",
   "execution_count": 70,
   "metadata": {},
   "outputs": [],
   "source": [
    "tablas = tablas.sample(10)"
   ]
  },
  {
   "cell_type": "code",
   "execution_count": 71,
   "metadata": {},
   "outputs": [],
   "source": [
    "with open(\"series.input.spec\", \"w\") as f:\n",
    "    for t in tablas.rows(named=True):\n",
    "        f.write(f\"{t['series_tabla_url']}\\n\")\n",
    "        f.write(\"\\tout=metadata.json\\n\")\n",
    "        f.write(f\"\\tdir=dataset/tablas/{t['Id']}\\n\\n\")\n",
    "\n",
    "with open(\"tablas.input.spec\", \"w\") as f:\n",
    "    for t in tablas.rows(named=True):\n",
    "        f.write(f\"{t['tablas_download_url']}\\n\")\n",
    "        f.write(f\"\\tout={t['Id']}.csv\\n\")\n",
    "        f.write(f\"\\tdir=dataset/tablas/{t['Id']}\\n\\n\")"
   ]
  },
  {
   "cell_type": "code",
   "execution_count": 72,
   "metadata": {},
   "outputs": [],
   "source": [
    "import subprocess\n",
    "\n",
    "series_result = subprocess.run(\n",
    "    [\n",
    "        \"aria2c\",\n",
    "        \"-i\",\n",
    "        \"series.input.spec\",\n",
    "        \"-j\",\n",
    "        \"50\",\n",
    "        \"-x\",\n",
    "        \"16\",\n",
    "        \"-s\",\n",
    "        \"8\",\n",
    "        \"-c\",\n",
    "        \"--file-allocation=none\",\n",
    "        \"--console-log-level=warn\",\n",
    "    ],\n",
    "    capture_output=True,\n",
    "    text=True,\n",
    ")"
   ]
  },
  {
   "cell_type": "code",
   "execution_count": 75,
   "metadata": {},
   "outputs": [
    {
     "name": "stdout",
     "output_type": "stream",
     "text": [
      "[DL:5.5MiB][#266a5e 1.2MiB/0B][#c590df 0B/0B][#a316be 0B/0B][#82fbf4 0B/0B]\n",
      "[DL:2.6MiB][#c590df 0B/0B][#a316be 0B/0B][#82fbf4 0B/0B]\n",
      "[DL:1.7MiB][#c590df 0B/0B][#a316be 0B/0B][#82fbf4 0B/0B]\n",
      "[DL:2.5MiB][#c590df 1.5MiB/0B][#a316be 725KiB/0B][#82fbf4 2.8MiB/0B]\n",
      "[DL:4.3MiB][#c590df 5.5MiB/0B][#a316be 4.7MiB/0B]\n",
      "[DL:4.9MiB][#c590df 9.5MiB/0B][#a316be 8.7MiB/0B]\n",
      "[#c590df 13MiB/0B CN:1 DL:3.9MiB]\n",
      "[#c590df 17MiB/0B CN:1 DL:3.9MiB]\n",
      "[#c590df 21MiB/0B CN:1 DL:3.9MiB]\n",
      "\n",
      "Download Results:\n",
      "gid   |stat|avg speed  |path/URI\n",
      "======+====+===========+=======================================================\n",
      "b9c635|OK  |   3.6MiB/s|dataset/tablas/70173/metadata.json\n",
      "d624d4|OK  |    26KiB/s|dataset/tablas/20170/metadata.json\n",
      "fc1a17|OK  |   285KiB/s|dataset/tablas/49127/metadata.json\n",
      "f83b0d|OK  |   196KiB/s|dataset/tablas/20509/metadata.json\n",
      "88d0be|OK  |   4.0MiB/s|dataset/tablas/10634/metadata.json\n",
      "a3fd1f|OK  |   189KiB/s|dataset/tablas/65934/metadata.json\n",
      "266a5e|OK  |   1.3MiB/s|dataset/tablas/70694/metadata.json\n",
      "82fbf4|OK  |   1.2MiB/s|dataset/tablas/31232/metadata.json\n",
      "a316be|OK  |   1.8MiB/s|dataset/tablas/25039/metadata.json\n",
      "c590df|OK  |   2.5MiB/s|dataset/tablas/32888/metadata.json\n",
      "\n",
      "Status Legend:\n",
      "(OK):download completed.\n",
      "\n"
     ]
    }
   ],
   "source": [
    "print(series_result.stdout)"
   ]
  },
  {
   "cell_type": "code",
   "execution_count": 76,
   "metadata": {},
   "outputs": [],
   "source": [
    "tablas_result = subprocess.run(\n",
    "    [\n",
    "        \"aria2c\",\n",
    "        \"-i\",\n",
    "        \"tablas.input.spec\",\n",
    "        \"-j\",\n",
    "        \"50\",\n",
    "        \"-x\",\n",
    "        \"16\",\n",
    "        \"-s\",\n",
    "        \"8\",\n",
    "        \"-c\",\n",
    "        \"--file-allocation=none\",\n",
    "        \"--console-log-level=warn\",\n",
    "    ],\n",
    "    capture_output=True,\n",
    "    text=True,\n",
    ")"
   ]
  },
  {
   "cell_type": "code",
   "execution_count": 77,
   "metadata": {},
   "outputs": [
    {
     "name": "stdout",
     "output_type": "stream",
     "text": [
      "[DL:8.6MiB][#f3fb6c 360KiB/0B][#ad45d8 1.5MiB/0B][#81b592 436KiB/0B][#d72fb3 0.9MiB/0B]\n",
      "\n",
      "Download Results:\n",
      "gid   |stat|avg speed  |path/URI\n",
      "======+====+===========+=======================================================\n",
      "b47fac|OK  |    81KiB/s|dataset/tablas/20509/20509.csv\n",
      "eee19f|OK  |   123KiB/s|dataset/tablas/70694/70694.csv\n",
      "ede36a|OK  |    10KiB/s|dataset/tablas/20170/20170.csv\n",
      "45f220|OK  |   221KiB/s|dataset/tablas/65934/65934.csv\n",
      "ff98a4|OK  |    84KiB/s|dataset/tablas/49127/49127.csv\n",
      "163190|OK  |   1.8MiB/s|dataset/tablas/25039/25039.csv\n",
      "d72fb3|OK  |   1.4MiB/s|dataset/tablas/10634/10634.csv\n",
      "f3fb6c|OK  |   767KiB/s|dataset/tablas/70173/70173.csv\n",
      "ad45d8|OK  |   3.2MiB/s|dataset/tablas/32888/32888.csv\n",
      "81b592|OK  |   1.9MiB/s|dataset/tablas/31232/31232.csv\n",
      "\n",
      "Status Legend:\n",
      "(OK):download completed.\n",
      "\n"
     ]
    }
   ],
   "source": [
    "print(tablas_result.stdout)"
   ]
  },
  {
   "cell_type": "code",
   "execution_count": 78,
   "metadata": {},
   "outputs": [
    {
     "name": "stderr",
     "output_type": "stream",
     "text": [
      "100%|██████████| 10/10 [00:00<00:00, 85.09it/s]\n"
     ]
    }
   ],
   "source": [
    "import glob\n",
    "\n",
    "from tqdm import tqdm\n",
    "\n",
    "csv_files = glob.glob(\"dataset/tablas/*/*.csv\")\n",
    "\n",
    "for file in tqdm(csv_files):\n",
    "    filename = file.split(\".\")[-2].split(\"/\")[-1]\n",
    "\n",
    "    table_metadata = tablas.filter(pl.col(\"Id\") == int(filename)).to_struct()[0]\n",
    "\n",
    "    with open(f\"dataset/tablas/{filename}/README.md\", \"w\") as f:\n",
    "        f.write(generate_readme_content(table_metadata))\n",
    "\n",
    "    (\n",
    "        pl.scan_csv(\n",
    "            file,\n",
    "            separator=\";\",\n",
    "            ignore_errors=True,\n",
    "            truncate_ragged_lines=True,\n",
    "        ).sink_parquet(\n",
    "            f\"dataset/tablas/{filename}/{filename}.parquet\",\n",
    "            compression=\"zstd\",\n",
    "            row_group_size=1024**2,\n",
    "            type_coercion=True,\n",
    "        )\n",
    "    )\n"
   ]
  },
  {
   "cell_type": "code",
   "execution_count": 79,
   "metadata": {},
   "outputs": [],
   "source": [
    "import os\n",
    "\n",
    "for file in csv_files:\n",
    "    os.remove(file)"
   ]
  },
  {
   "cell_type": "code",
   "execution_count": 39,
   "metadata": {},
   "outputs": [],
   "source": [
    "from huggingface_hub import HfApi"
   ]
  },
  {
   "cell_type": "code",
   "execution_count": 40,
   "metadata": {},
   "outputs": [],
   "source": [
    "api = HfApi(token=os.getenv(\"HUGGINGFACE_TOKEN\"))"
   ]
  },
  {
   "cell_type": "code",
   "execution_count": 42,
   "metadata": {},
   "outputs": [],
   "source": [
    "api.upload_large_folder(\n",
    "    folder_path=\"dataset\", repo_id=\"davidgasquez/ine\", repo_type=\"dataset\"\n",
    ")"
   ]
  }
 ],
 "metadata": {
  "kernelspec": {
   "display_name": ".venv",
   "language": "python",
   "name": "python3"
  },
  "language_info": {
   "codemirror_mode": {
    "name": "ipython",
    "version": 3
   },
   "file_extension": ".py",
   "mimetype": "text/x-python",
   "name": "python",
   "nbconvert_exporter": "python",
   "pygments_lexer": "ipython3",
   "version": "3.12.6"
  }
 },
 "nbformat": 4,
 "nbformat_minor": 2
}
